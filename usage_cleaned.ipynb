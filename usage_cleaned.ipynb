{
 "cells": [
  {
   "cell_type": "code",
   "execution_count": 126,
   "metadata": {},
   "outputs": [],
   "source": [
    "import pandas as pd\n",
    "import numpy as np\n",
    "from matplotlib import pyplot\n",
    "import seaborn as sns"
   ]
  },
  {
   "cell_type": "code",
   "execution_count": 93,
   "metadata": {},
   "outputs": [],
   "source": [
    "use = pd.read_csv('usage.csv')"
   ]
  },
  {
   "cell_type": "code",
   "execution_count": 95,
   "metadata": {},
   "outputs": [],
   "source": [
    "# use = use.drop(['Unnamed: 3','Unnamed: 4','Unnamed: 5','Unnamed: 6','Unnamed: 7'], axis=1)\n",
    "use['# Transactions'] = use['# Transactions'].str.replace(' ', '').str.replace(',', '').str.replace('-','0')"
   ]
  },
  {
   "cell_type": "code",
   "execution_count": 96,
   "metadata": {},
   "outputs": [],
   "source": [
    "use['Year'] = use['Unnamed: 2']"
   ]
  },
  {
   "cell_type": "code",
   "execution_count": 97,
   "metadata": {},
   "outputs": [],
   "source": [
    "use = use.drop(['Unnamed: 2','Unnamed: 3','Unnamed: 4','Unnamed: 5','Unnamed: 6','Unnamed: 7'], axis=1)"
   ]
  },
  {
   "cell_type": "code",
   "execution_count": 98,
   "metadata": {},
   "outputs": [],
   "source": [
    "use['# Transactions'] = use['# Transactions'].astype(int)"
   ]
  },
  {
   "cell_type": "code",
   "execution_count": 111,
   "metadata": {
    "scrolled": true
   },
   "outputs": [],
   "source": [
    "use.to_csv('usage.csv_cleaned', index=False)"
   ]
  },
  {
   "cell_type": "code",
   "execution_count": 103,
   "metadata": {},
   "outputs": [],
   "source": [
    "years = use.groupby(['Year'])['# Transactions'].mean()"
   ]
  },
  {
   "cell_type": "code",
   "execution_count": 104,
   "metadata": {},
   "outputs": [
    {
     "data": {
      "text/plain": [
       "Year\n",
       "2010    6.877430e+05\n",
       "2011    9.070634e+05\n",
       "2012    1.141766e+06\n",
       "Name: # Transactions, dtype: float64"
      ]
     },
     "execution_count": 104,
     "metadata": {},
     "output_type": "execute_result"
    }
   ],
   "source": [
    "years"
   ]
  },
  {
   "cell_type": "code",
   "execution_count": 105,
   "metadata": {},
   "outputs": [],
   "source": [
    "customers = use.groupby(['Year','Customer'])['# Transactions'].mean()"
   ]
  },
  {
   "cell_type": "code",
   "execution_count": 127,
   "metadata": {},
   "outputs": [
    {
     "data": {
      "text/plain": [
       "Year  Customer     \n",
       "2010  CUSTOMER 100         1746.0\n",
       "      CUSTOMER 1001           0.0\n",
       "      CUSTOMER 1002       33787.0\n",
       "      CUSTOMER 1003     3125191.0\n",
       "      CUSTOMER 1006     1565731.0\n",
       "      CUSTOMER 1009     2004500.0\n",
       "      CUSTOMER 1010     4180043.0\n",
       "      CUSTOMER 1011      710481.0\n",
       "      CUSTOMER 1012      928684.0\n",
       "      CUSTOMER 1013       52484.0\n",
       "      CUSTOMER 1015         758.0\n",
       "      CUSTOMER 1020       52243.0\n",
       "      CUSTOMER 1021           0.0\n",
       "      CUSTOMER 1022      539021.0\n",
       "      CUSTOMER 1025      403779.0\n",
       "      CUSTOMER 1032      387059.0\n",
       "      CUSTOMER 1035       14230.0\n",
       "      CUSTOMER 1037        1371.0\n",
       "      CUSTOMER 1042          59.0\n",
       "      CUSTOMER 1044     4117712.0\n",
       "      CUSTOMER 1047           3.0\n",
       "      CUSTOMER 1050       31681.0\n",
       "      CUSTOMER 1055           3.0\n",
       "      CUSTOMER 1058     1637648.0\n",
       "      CUSTOMER 1067      110802.0\n",
       "      CUSTOMER 1079       10709.0\n",
       "      CUSTOMER 108         6160.0\n",
       "      CUSTOMER 1082         456.0\n",
       "      CUSTOMER 1084        1710.0\n",
       "      CUSTOMER 1085      311745.0\n",
       "                          ...    \n",
       "2012  CUSTOMER 946            0.0\n",
       "      CUSTOMER 947          339.0\n",
       "      CUSTOMER 949       162992.0\n",
       "      CUSTOMER 95       1217646.0\n",
       "      CUSTOMER 952          188.0\n",
       "      CUSTOMER 953       347399.0\n",
       "      CUSTOMER 954           71.0\n",
       "      CUSTOMER 958          946.0\n",
       "      CUSTOMER 959         1417.0\n",
       "      CUSTOMER 96        128995.0\n",
       "      CUSTOMER 960          379.0\n",
       "      CUSTOMER 963            0.0\n",
       "      CUSTOMER 965            0.0\n",
       "      CUSTOMER 968            0.0\n",
       "      CUSTOMER 969         5266.0\n",
       "      CUSTOMER 973      2173415.0\n",
       "      CUSTOMER 975         1177.0\n",
       "      CUSTOMER 976       128320.0\n",
       "      CUSTOMER 977        52876.0\n",
       "      CUSTOMER 98       4860521.0\n",
       "      CUSTOMER 982        32955.0\n",
       "      CUSTOMER 984       395932.0\n",
       "      CUSTOMER 987        22180.0\n",
       "      CUSTOMER 990         7882.0\n",
       "      CUSTOMER 991     10521634.0\n",
       "      CUSTOMER 994        30058.0\n",
       "      CUSTOMER 995        49376.0\n",
       "      CUSTOMER 996        38825.0\n",
       "      CUSTOMER 998            0.0\n",
       "      CUSTOMER 999            0.0\n",
       "Name: # Transactions, Length: 5190, dtype: float64"
      ]
     },
     "execution_count": 127,
     "metadata": {},
     "output_type": "execute_result"
    }
   ],
   "source": [
    "customers"
   ]
  },
  {
   "cell_type": "code",
   "execution_count": null,
   "metadata": {},
   "outputs": [],
   "source": []
  }
 ],
 "metadata": {
  "kernelspec": {
   "display_name": "Python 3",
   "language": "python",
   "name": "python3"
  },
  "language_info": {
   "codemirror_mode": {
    "name": "ipython",
    "version": 3
   },
   "file_extension": ".py",
   "mimetype": "text/x-python",
   "name": "python",
   "nbconvert_exporter": "python",
   "pygments_lexer": "ipython3",
   "version": "3.7.2"
  }
 },
 "nbformat": 4,
 "nbformat_minor": 2
}
