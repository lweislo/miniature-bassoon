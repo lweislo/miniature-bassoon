{
 "cells": [
  {
   "cell_type": "code",
   "execution_count": 1,
   "metadata": {},
   "outputs": [],
   "source": [
    "import pandas as pd\n",
    "import numpy as np\n",
    "from matplotlib import pyplot\n",
    "import seaborn as sns"
   ]
  },
  {
   "cell_type": "code",
   "execution_count": 2,
   "metadata": {},
   "outputs": [],
   "source": [
    "use = pd.read_csv('usage.csv')"
   ]
  },
  {
   "cell_type": "code",
   "execution_count": 3,
   "metadata": {},
   "outputs": [],
   "source": [
    "use['# Transactions'] = use['# Transactions'].str.replace(' ', '').str.replace(',', '').str.replace('-','0')"
   ]
  },
  {
   "cell_type": "code",
   "execution_count": 4,
   "metadata": {},
   "outputs": [],
   "source": [
    "use['Year'] = use['Unnamed: 2']"
   ]
  },
  {
   "cell_type": "code",
   "execution_count": 5,
   "metadata": {},
   "outputs": [],
   "source": [
    "use = use.drop(['Unnamed: 2','Unnamed: 3','Unnamed: 4','Unnamed: 5','Unnamed: 6','Unnamed: 7'], axis=1)"
   ]
  },
  {
   "cell_type": "code",
   "execution_count": 6,
   "metadata": {},
   "outputs": [],
   "source": [
    "use['# Transactions'] = use['# Transactions'].astype(int)"
   ]
  },
  {
   "cell_type": "code",
   "execution_count": 111,
   "metadata": {
    "scrolled": true
   },
   "outputs": [],
   "source": [
    "use.to_csv('usage.csv_cleaned', index=False)"
   ]
  },
  {
   "cell_type": "code",
   "execution_count": 7,
   "metadata": {},
   "outputs": [],
   "source": [
    "years = use.groupby(['Year'])['# Transactions'].mean()"
   ]
  },
  {
   "cell_type": "code",
   "execution_count": 8,
   "metadata": {},
   "outputs": [
    {
     "data": {
      "text/plain": [
       "Year\n",
       "2010    6.877430e+05\n",
       "2011    9.070634e+05\n",
       "2012    1.141766e+06\n",
       "Name: # Transactions, dtype: float64"
      ]
     },
     "execution_count": 8,
     "metadata": {},
     "output_type": "execute_result"
    }
   ],
   "source": [
    "years"
   ]
  },
  {
   "cell_type": "code",
   "execution_count": 9,
   "metadata": {},
   "outputs": [],
   "source": [
    "customers = use.groupby(['Year','Customer'])['# Transactions'].mean()"
   ]
  },
  {
   "cell_type": "code",
   "execution_count": 12,
   "metadata": {},
   "outputs": [
    {
     "data": {
      "text/plain": [
       "Year  Customer     \n",
       "2012  CUSTOMER 774     802117023.0\n",
       "2011  CUSTOMER 284     184775969.5\n",
       "      CUSTOMER 184     145379267.0\n",
       "2010  CUSTOMER 184     139197247.0\n",
       "      CUSTOMER 284     138694932.0\n",
       "2011  CUSTOMER 3040     84992903.0\n",
       "2012  CUSTOMER 184      84109262.0\n",
       "      CUSTOMER 3585     83374350.0\n",
       "2011  CUSTOMER 3585     62188774.0\n",
       "2012  CUSTOMER 319      59927946.0\n",
       "      CUSTOMER 3542     57011377.0\n",
       "2011  CUSTOMER 3542     53217052.0\n",
       "2012  CUSTOMER 1773     49086677.0\n",
       "      CUSTOMER 2812     40577805.0\n",
       "2011  CUSTOMER 4038     38794500.0\n",
       "2012  CUSTOMER 677      37080623.0\n",
       "2010  CUSTOMER 4038     37013142.0\n",
       "2012  CUSTOMER 441      35363341.0\n",
       "2011  CUSTOMER 319      29105334.0\n",
       "2012  CUSTOMER 2835     28050657.0\n",
       "2011  CUSTOMER 3506     26008785.0\n",
       "      CUSTOMER 2835     25460459.0\n",
       "      CUSTOMER 3836     22004491.0\n",
       "2010  CUSTOMER 2645     21835781.0\n",
       "      CUSTOMER 2926     21239158.0\n",
       "      CUSTOMER 2812     20636766.0\n",
       "2012  CUSTOMER 3040     20520441.0\n",
       "      CUSTOMER 2645     20307746.0\n",
       "2011  CUSTOMER 798      20293201.0\n",
       "2012  CUSTOMER 1732     19623468.0\n",
       "                          ...     \n",
       "2011  CUSTOMER 3732            0.0\n",
       "2010  CUSTOMER 3103            0.0\n",
       "2011  CUSTOMER 3578            0.0\n",
       "      CUSTOMER 3591            0.0\n",
       "      CUSTOMER 360             0.0\n",
       "      CUSTOMER 3606            0.0\n",
       "2012  CUSTOMER 998             0.0\n",
       "2011  CUSTOMER 3656            0.0\n",
       "      CUSTOMER 3661            0.0\n",
       "      CUSTOMER 3680            0.0\n",
       "      CUSTOMER 369             0.0\n",
       "      CUSTOMER 370             0.0\n",
       "      CUSTOMER 3701            0.0\n",
       "      CUSTOMER 3722            0.0\n",
       "      CUSTOMER 3774            0.0\n",
       "      CUSTOMER 3959            0.0\n",
       "      CUSTOMER 3787            0.0\n",
       "2010  CUSTOMER 3039            0.0\n",
       "      CUSTOMER 3031            0.0\n",
       "2011  CUSTOMER 3819            0.0\n",
       "      CUSTOMER 3835            0.0\n",
       "      CUSTOMER 3849            0.0\n",
       "      CUSTOMER 3858            0.0\n",
       "2010  CUSTOMER 3010            0.0\n",
       "2011  CUSTOMER 387             0.0\n",
       "2010  CUSTOMER 2995            0.0\n",
       "2011  CUSTOMER 3925            0.0\n",
       "      CUSTOMER 3940            0.0\n",
       "      CUSTOMER 3949            0.0\n",
       "2012  CUSTOMER 999             0.0\n",
       "Name: # Transactions, Length: 5190, dtype: float64"
      ]
     },
     "execution_count": 12,
     "metadata": {},
     "output_type": "execute_result"
    }
   ],
   "source": [
    "customers.sort_values(ascending=False)"
   ]
  },
  {
   "cell_type": "code",
   "execution_count": null,
   "metadata": {},
   "outputs": [],
   "source": []
  }
 ],
 "metadata": {
  "kernelspec": {
   "display_name": "Python 3",
   "language": "python",
   "name": "python3"
  },
  "language_info": {
   "codemirror_mode": {
    "name": "ipython",
    "version": 3
   },
   "file_extension": ".py",
   "mimetype": "text/x-python",
   "name": "python",
   "nbconvert_exporter": "python",
   "pygments_lexer": "ipython3",
   "version": "3.7.2"
  }
 },
 "nbformat": 4,
 "nbformat_minor": 2
}
