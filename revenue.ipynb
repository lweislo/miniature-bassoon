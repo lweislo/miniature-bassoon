{
 "cells": [
  {
   "cell_type": "markdown",
   "metadata": {},
   "source": [
    "# Case Study: Revenue by Product and Year"
   ]
  },
  {
   "cell_type": "code",
   "execution_count": 35,
   "metadata": {},
   "outputs": [],
   "source": [
    "import pandas as pd\n",
    "import numpy as np\n",
    "from matplotlib import pyplot as plt\n",
    "import seaborn as sns"
   ]
  },
  {
   "cell_type": "markdown",
   "metadata": {},
   "source": [
    "### Removed headers and blank columns in excel before exporting to csv"
   ]
  },
  {
   "cell_type": "code",
   "execution_count": 2,
   "metadata": {},
   "outputs": [
    {
     "data": {
      "text/plain": [
       "Product Group\n",
       "FraudFinder         2544\n",
       "FraudFinder 2.0.    2725\n",
       "Other                541\n",
       "Name: Cust_ID, dtype: int64"
      ]
     },
     "execution_count": 2,
     "metadata": {},
     "output_type": "execute_result"
    }
   ],
   "source": [
    "raw_rev = pd.read_csv('revenue_cleaned.csv')\n",
    "# Get a general idea of customers linked to each product group\n",
    "counts = raw_rev.groupby(['Product Group'])['Cust_ID'].count()\n",
    "counts\n"
   ]
  },
  {
   "cell_type": "code",
   "execution_count": 3,
   "metadata": {},
   "outputs": [
    {
     "data": {
      "text/plain": [
       "5810"
      ]
     },
     "execution_count": 3,
     "metadata": {},
     "output_type": "execute_result"
    }
   ],
   "source": [
    "# Look at the total number of entries\n",
    "rev=raw_rev.set_index('Cust_ID')\n",
    "len(rev)"
   ]
  },
  {
   "cell_type": "code",
   "execution_count": 4,
   "metadata": {},
   "outputs": [
    {
     "data": {
      "text/html": [
       "<div>\n",
       "<style scoped>\n",
       "    .dataframe tbody tr th:only-of-type {\n",
       "        vertical-align: middle;\n",
       "    }\n",
       "\n",
       "    .dataframe tbody tr th {\n",
       "        vertical-align: top;\n",
       "    }\n",
       "\n",
       "    .dataframe thead th {\n",
       "        text-align: right;\n",
       "    }\n",
       "</style>\n",
       "<table border=\"1\" class=\"dataframe\">\n",
       "  <thead>\n",
       "    <tr style=\"text-align: right;\">\n",
       "      <th></th>\n",
       "      <th>Product Group</th>\n",
       "      <th>1/1/2010</th>\n",
       "      <th>2/1/2010</th>\n",
       "      <th>3/1/2010</th>\n",
       "      <th>4/1/2010</th>\n",
       "      <th>5/1/2010</th>\n",
       "      <th>6/1/2010</th>\n",
       "      <th>7/1/2010</th>\n",
       "      <th>8/1/2010</th>\n",
       "      <th>9/1/2010</th>\n",
       "      <th>...</th>\n",
       "      <th>9/1/2012</th>\n",
       "      <th>10/1/2012</th>\n",
       "      <th>11/1/2012</th>\n",
       "      <th>12/1/2012</th>\n",
       "      <th>1/1/2013</th>\n",
       "      <th>2/1/2013</th>\n",
       "      <th>3/1/2013</th>\n",
       "      <th>4/1/2013</th>\n",
       "      <th>5/1/2013</th>\n",
       "      <th>6/1/2013</th>\n",
       "    </tr>\n",
       "    <tr>\n",
       "      <th>Cust_ID</th>\n",
       "      <th></th>\n",
       "      <th></th>\n",
       "      <th></th>\n",
       "      <th></th>\n",
       "      <th></th>\n",
       "      <th></th>\n",
       "      <th></th>\n",
       "      <th></th>\n",
       "      <th></th>\n",
       "      <th></th>\n",
       "      <th></th>\n",
       "      <th></th>\n",
       "      <th></th>\n",
       "      <th></th>\n",
       "      <th></th>\n",
       "      <th></th>\n",
       "      <th></th>\n",
       "      <th></th>\n",
       "      <th></th>\n",
       "      <th></th>\n",
       "      <th></th>\n",
       "    </tr>\n",
       "  </thead>\n",
       "  <tbody>\n",
       "    <tr>\n",
       "      <th>CUSTOMER 1</th>\n",
       "      <td>FraudFinder 2.0.</td>\n",
       "      <td>172.24</td>\n",
       "      <td>172.24</td>\n",
       "      <td>172.24</td>\n",
       "      <td>172.24</td>\n",
       "      <td>172.24</td>\n",
       "      <td>172.24</td>\n",
       "      <td>172.24</td>\n",
       "      <td>172.24</td>\n",
       "      <td>172.24</td>\n",
       "      <td>...</td>\n",
       "      <td>217.91</td>\n",
       "      <td>217.91</td>\n",
       "      <td>217.92</td>\n",
       "      <td>239.7</td>\n",
       "      <td>239.7</td>\n",
       "      <td>239.7</td>\n",
       "      <td>239.7</td>\n",
       "      <td>239.7</td>\n",
       "      <td>239.7</td>\n",
       "      <td>239.7</td>\n",
       "    </tr>\n",
       "  </tbody>\n",
       "</table>\n",
       "<p>1 rows × 43 columns</p>\n",
       "</div>"
      ],
      "text/plain": [
       "               Product Group  1/1/2010  2/1/2010  3/1/2010  4/1/2010  \\\n",
       "Cust_ID                                                                \n",
       "CUSTOMER 1  FraudFinder 2.0.    172.24    172.24    172.24    172.24   \n",
       "\n",
       "            5/1/2010  6/1/2010  7/1/2010  8/1/2010  9/1/2010  ...  9/1/2012  \\\n",
       "Cust_ID                                                       ...             \n",
       "CUSTOMER 1    172.24    172.24    172.24    172.24    172.24  ...    217.91   \n",
       "\n",
       "            10/1/2012  11/1/2012  12/1/2012  1/1/2013  2/1/2013  3/1/2013  \\\n",
       "Cust_ID                                                                     \n",
       "CUSTOMER 1     217.91     217.92      239.7     239.7     239.7     239.7   \n",
       "\n",
       "            4/1/2013  5/1/2013  6/1/2013  \n",
       "Cust_ID                                   \n",
       "CUSTOMER 1     239.7     239.7     239.7  \n",
       "\n",
       "[1 rows x 43 columns]"
      ]
     },
     "execution_count": 4,
     "metadata": {},
     "output_type": "execute_result"
    }
   ],
   "source": [
    "rev.head(1)"
   ]
  },
  {
   "cell_type": "code",
   "execution_count": 5,
   "metadata": {},
   "outputs": [],
   "source": [
    "# Create quarterly summary columns because most shifts from one subscription to another occur over quarters\n",
    "y10_1 = rev.columns.values[1:4]\n",
    "y10_2 = rev.columns.values[4:7]\n",
    "y10_3 = rev.columns.values[7:10]\n",
    "y10_4 = rev.columns.values[10:13]\n",
    "y11_1 = rev.columns.values[13:16]\n",
    "y11_2 = rev.columns.values[16:19]\n",
    "y11_3 = rev.columns.values[19:22]\n",
    "y11_4 = rev.columns.values[22:25]\n",
    "y12_1 = rev.columns.values[25:28]\n",
    "y12_2 = rev.columns.values[28:31]\n",
    "y12_3 = rev.columns.values[31:34]\n",
    "y12_4 = rev.columns.values[34:37]\n",
    "y13_1 = rev.columns.values[37:40]\n",
    "y13_2 = rev.columns.values[40:43]"
   ]
  },
  {
   "cell_type": "code",
   "execution_count": 6,
   "metadata": {},
   "outputs": [],
   "source": [
    "# Create the sum of revenue per quarter columns\n",
    "rev['2010 Q1'] = rev[y10_1].sum(axis=1)\n",
    "rev['2010 Q2'] = rev[y10_2].sum(axis=1)\n",
    "rev['2010 Q3'] = rev[y10_3].sum(axis=1)\n",
    "rev['2010 Q4'] = rev[y10_4].sum(axis=1)\n",
    "rev['2011 Q1'] = rev[y11_1].sum(axis=1)\n",
    "rev['2011 Q2'] = rev[y11_2].sum(axis=1)\n",
    "rev['2011 Q3'] = rev[y11_3].sum(axis=1)\n",
    "rev['2011 Q4'] = rev[y11_4].sum(axis=1)\n",
    "rev['2012 Q1'] = rev[y12_1].sum(axis=1)\n",
    "rev['2012 Q2'] = rev[y12_2].sum(axis=1)\n",
    "rev['2012 Q3'] = rev[y12_3].sum(axis=1)\n",
    "rev['2012 Q4'] = rev[y12_4].sum(axis=1)\n",
    "rev['2013 Q1'] = rev[y13_1].sum(axis=1)\n",
    "rev['2013 Q2'] = rev[y13_2].sum(axis=1)"
   ]
  },
  {
   "cell_type": "code",
   "execution_count": 7,
   "metadata": {},
   "outputs": [
    {
     "data": {
      "text/html": [
       "<div>\n",
       "<style scoped>\n",
       "    .dataframe tbody tr th:only-of-type {\n",
       "        vertical-align: middle;\n",
       "    }\n",
       "\n",
       "    .dataframe tbody tr th {\n",
       "        vertical-align: top;\n",
       "    }\n",
       "\n",
       "    .dataframe thead th {\n",
       "        text-align: right;\n",
       "    }\n",
       "</style>\n",
       "<table border=\"1\" class=\"dataframe\">\n",
       "  <thead>\n",
       "    <tr style=\"text-align: right;\">\n",
       "      <th></th>\n",
       "      <th>2010 Q1</th>\n",
       "      <th>2010 Q2</th>\n",
       "      <th>2010 Q3</th>\n",
       "      <th>2010 Q4</th>\n",
       "      <th>2011 Q1</th>\n",
       "      <th>2011 Q2</th>\n",
       "      <th>2011 Q3</th>\n",
       "      <th>2011 Q4</th>\n",
       "      <th>2012 Q1</th>\n",
       "      <th>2012 Q2</th>\n",
       "      <th>2012 Q3</th>\n",
       "      <th>2012 Q4</th>\n",
       "      <th>2013 Q1</th>\n",
       "      <th>2013 Q2</th>\n",
       "    </tr>\n",
       "    <tr>\n",
       "      <th>Product Group</th>\n",
       "      <th></th>\n",
       "      <th></th>\n",
       "      <th></th>\n",
       "      <th></th>\n",
       "      <th></th>\n",
       "      <th></th>\n",
       "      <th></th>\n",
       "      <th></th>\n",
       "      <th></th>\n",
       "      <th></th>\n",
       "      <th></th>\n",
       "      <th></th>\n",
       "      <th></th>\n",
       "      <th></th>\n",
       "    </tr>\n",
       "  </thead>\n",
       "  <tbody>\n",
       "    <tr>\n",
       "      <th>FraudFinder</th>\n",
       "      <td>1448078.45</td>\n",
       "      <td>1376614.23</td>\n",
       "      <td>1348205.91</td>\n",
       "      <td>1327847.78</td>\n",
       "      <td>1248881.45</td>\n",
       "      <td>1233196.51</td>\n",
       "      <td>1129251.33</td>\n",
       "      <td>1019023.13</td>\n",
       "      <td>928592.89</td>\n",
       "      <td>870948.21</td>\n",
       "      <td>827753.19</td>\n",
       "      <td>809295.36</td>\n",
       "      <td>785994.51</td>\n",
       "      <td>771339.66</td>\n",
       "    </tr>\n",
       "    <tr>\n",
       "      <th>FraudFinder 2.0.</th>\n",
       "      <td>1567073.61</td>\n",
       "      <td>1643669.50</td>\n",
       "      <td>1768096.82</td>\n",
       "      <td>1978093.14</td>\n",
       "      <td>2116815.45</td>\n",
       "      <td>2302170.66</td>\n",
       "      <td>2445518.24</td>\n",
       "      <td>2632327.37</td>\n",
       "      <td>2814206.67</td>\n",
       "      <td>2913686.26</td>\n",
       "      <td>3111064.59</td>\n",
       "      <td>3292963.45</td>\n",
       "      <td>3251793.89</td>\n",
       "      <td>3422442.84</td>\n",
       "    </tr>\n",
       "    <tr>\n",
       "      <th>Other</th>\n",
       "      <td>88375.76</td>\n",
       "      <td>145609.35</td>\n",
       "      <td>149747.68</td>\n",
       "      <td>134339.55</td>\n",
       "      <td>145748.43</td>\n",
       "      <td>131039.19</td>\n",
       "      <td>158189.88</td>\n",
       "      <td>309856.51</td>\n",
       "      <td>233171.51</td>\n",
       "      <td>350510.34</td>\n",
       "      <td>350262.00</td>\n",
       "      <td>336446.28</td>\n",
       "      <td>459837.89</td>\n",
       "      <td>432360.92</td>\n",
       "    </tr>\n",
       "  </tbody>\n",
       "</table>\n",
       "</div>"
      ],
      "text/plain": [
       "                     2010 Q1     2010 Q2     2010 Q3     2010 Q4     2011 Q1  \\\n",
       "Product Group                                                                  \n",
       "FraudFinder       1448078.45  1376614.23  1348205.91  1327847.78  1248881.45   \n",
       "FraudFinder 2.0.  1567073.61  1643669.50  1768096.82  1978093.14  2116815.45   \n",
       "Other               88375.76   145609.35   149747.68   134339.55   145748.43   \n",
       "\n",
       "                     2011 Q2     2011 Q3     2011 Q4     2012 Q1     2012 Q2  \\\n",
       "Product Group                                                                  \n",
       "FraudFinder       1233196.51  1129251.33  1019023.13   928592.89   870948.21   \n",
       "FraudFinder 2.0.  2302170.66  2445518.24  2632327.37  2814206.67  2913686.26   \n",
       "Other              131039.19   158189.88   309856.51   233171.51   350510.34   \n",
       "\n",
       "                     2012 Q3     2012 Q4     2013 Q1     2013 Q2  \n",
       "Product Group                                                     \n",
       "FraudFinder        827753.19   809295.36   785994.51   771339.66  \n",
       "FraudFinder 2.0.  3111064.59  3292963.45  3251793.89  3422442.84  \n",
       "Other              350262.00   336446.28   459837.89   432360.92  "
      ]
     },
     "execution_count": 7,
     "metadata": {},
     "output_type": "execute_result"
    }
   ],
   "source": [
    "quarterly = rev.iloc[:,43:57]\n",
    "quarterly['Product Group'] = rev['Product Group']\n",
    "quarterly_sum = quarterly.groupby('Product Group').sum()\n",
    "quarterly_sum "
   ]
  },
  {
   "cell_type": "code",
   "execution_count": 9,
   "metadata": {},
   "outputs": [
    {
     "data": {
      "image/png": "[encoded data removed]",
      "text/plain": [
       "<Figure size 720x576 with 1 Axes>"
      ]
     },
     "metadata": {
      "needs_background": "light"
     },
     "output_type": "display_data"
    }
   ],
   "source": [
    "quarterly_sum.plot(kind='bar', figsize=(10,8), legend='brief', colormap='tab10', rot=45)\n",
    "plt.xlabel('Quarter', fontsize=12, fontweight='bold')\n",
    "plt.ylabel('Quarterly Revenue $', fontsize=12, fontweight='bold')\n",
    "plt.title('Total Revenue per Product Group Over Time', fontsize=14, fontweight='bold')\n",
    "plt.legend(loc='best')\n",
    "plt.savefig('./revenue_summary.png',transparent=False, dpi=80, bbox_inches=\"tight\")"
   ]
  },
  {
   "cell_type": "code",
   "execution_count": 26,
   "metadata": {},
   "outputs": [],
   "source": [
    "### Looking at change of product use over time, assuming zero revenue means no use\n",
    "months = ['1/1/2010', '2/1/2010', '3/1/2010',\n",
    "       '4/1/2010', '5/1/2010', '6/1/2010', '7/1/2010', '8/1/2010',\n",
    "       '9/1/2010', '10/1/2010', '11/1/2010', '12/1/2010', '1/1/2011',\n",
    "       '2/1/2011', '3/1/2011', '4/1/2011', '5/1/2011', '6/1/2011',\n",
    "       '7/1/2011', '8/1/2011', '9/1/2011', '10/1/2011', '11/1/2011',\n",
    "       '12/1/2011', '1/1/2012', '2/1/2012', '3/1/2012', '4/1/2012',\n",
    "       '5/1/2012', '6/1/2012', '7/1/2012', '8/1/2012', '9/1/2012',\n",
    "       '10/1/2012', '11/1/2012', '12/1/2012', '1/1/2013', '2/1/2013',\n",
    "       '3/1/2013', '4/1/2013', '5/1/2013', '6/1/2013']"
   ]
  },
  {
   "cell_type": "code",
   "execution_count": 30,
   "metadata": {},
   "outputs": [],
   "source": [
    "def productuse(df):\n",
    "    first_half_years = ['1/1/2010','6/1/2010','1/1/2011','6/1/2011','1/1/2012','6/1/2012','1/1/2013','6/1/2013']\n",
    "    for item in first_half_years:\n",
    "        df[item] = (rev.loc[rev[item] > 0]).reset_index().groupby('Product Group')['Cust_ID'].count()\n",
    "        "
   ]
  },
  {
   "cell_type": "code",
   "execution_count": 31,
   "metadata": {},
   "outputs": [
    {
     "data": {
      "text/html": [
       "<div>\n",
       "<style scoped>\n",
       "    .dataframe tbody tr th:only-of-type {\n",
       "        vertical-align: middle;\n",
       "    }\n",
       "\n",
       "    .dataframe tbody tr th {\n",
       "        vertical-align: top;\n",
       "    }\n",
       "\n",
       "    .dataframe thead th {\n",
       "        text-align: right;\n",
       "    }\n",
       "</style>\n",
       "<table border=\"1\" class=\"dataframe\">\n",
       "  <thead>\n",
       "    <tr style=\"text-align: right;\">\n",
       "      <th></th>\n",
       "      <th>1/1/2010</th>\n",
       "      <th>6/1/2010</th>\n",
       "      <th>1/1/2011</th>\n",
       "      <th>6/1/2011</th>\n",
       "      <th>1/1/2012</th>\n",
       "      <th>6/1/2012</th>\n",
       "      <th>1/1/2013</th>\n",
       "      <th>6/1/2013</th>\n",
       "    </tr>\n",
       "    <tr>\n",
       "      <th>Product Group</th>\n",
       "      <th></th>\n",
       "      <th></th>\n",
       "      <th></th>\n",
       "      <th></th>\n",
       "      <th></th>\n",
       "      <th></th>\n",
       "      <th></th>\n",
       "      <th></th>\n",
       "    </tr>\n",
       "  </thead>\n",
       "  <tbody>\n",
       "    <tr>\n",
       "      <th>FraudFinder</th>\n",
       "      <td>2506</td>\n",
       "      <td>2232</td>\n",
       "      <td>1851</td>\n",
       "      <td>1537</td>\n",
       "      <td>1141</td>\n",
       "      <td>985</td>\n",
       "      <td>855</td>\n",
       "      <td>775</td>\n",
       "    </tr>\n",
       "    <tr>\n",
       "      <th>FraudFinder 2.0.</th>\n",
       "      <td>1381</td>\n",
       "      <td>1435</td>\n",
       "      <td>1678</td>\n",
       "      <td>1800</td>\n",
       "      <td>2001</td>\n",
       "      <td>2074</td>\n",
       "      <td>2087</td>\n",
       "      <td>2108</td>\n",
       "    </tr>\n",
       "    <tr>\n",
       "      <th>Other</th>\n",
       "      <td>49</td>\n",
       "      <td>72</td>\n",
       "      <td>63</td>\n",
       "      <td>60</td>\n",
       "      <td>44</td>\n",
       "      <td>48</td>\n",
       "      <td>85</td>\n",
       "      <td>57</td>\n",
       "    </tr>\n",
       "  </tbody>\n",
       "</table>\n",
       "</div>"
      ],
      "text/plain": [
       "                  1/1/2010  6/1/2010  1/1/2011  6/1/2011  1/1/2012  6/1/2012  \\\n",
       "Product Group                                                                  \n",
       "FraudFinder           2506      2232      1851      1537      1141       985   \n",
       "FraudFinder 2.0.      1381      1435      1678      1800      2001      2074   \n",
       "Other                   49        72        63        60        44        48   \n",
       "\n",
       "                  1/1/2013  6/1/2013  \n",
       "Product Group                         \n",
       "FraudFinder            855       775  \n",
       "FraudFinder 2.0.      2087      2108  \n",
       "Other                   85        57  "
      ]
     },
     "execution_count": 31,
     "metadata": {},
     "output_type": "execute_result"
    }
   ],
   "source": [
    "df = pd.DataFrame()\n",
    "productuse(df)\n",
    "df"
   ]
  },
  {
   "cell_type": "code",
   "execution_count": 32,
   "metadata": {},
   "outputs": [
    {
     "name": "stderr",
     "output_type": "stream",
     "text": [
      "/Users/laura/anaconda3/lib/python3.7/site-packages/pandas/plotting/_core.py:185: UserWarning: 'colors' is being deprecated. Please use 'color'instead of 'colors'\n",
      "  warnings.warn((\"'colors' is being deprecated. Please use 'color'\"\n"
     ]
    },
    {
     "data": {
      "image/png": "[encoded data removed]",
      "text/plain": [
       "<Figure size 720x576 with 1 Axes>"
      ]
     },
     "metadata": {
      "needs_background": "light"
     },
     "output_type": "display_data"
    }
   ],
   "source": [
    "adf = df.transpose()\n",
    "adf.plot(kind='bar', figsize=(10,8), legend=True, colors=['tab:olive','tab:red','tab:cyan'], rot=45)\n",
    "plt.xlabel('Quarter', fontsize=12, fontweight='bold')\n",
    "plt.ylabel('Customer count', fontsize=12, fontweight='bold')\n",
    "plt.title('Customers using Product Over Time', fontsize=14, fontweight='bold')\n",
    "plt.legend(loc='best')\n",
    "plt.savefig('./customer_summary.png',transparent=False, dpi=80, bbox_inches=\"tight\")"
   ]
  },
  {
   "cell_type": "code",
   "execution_count": 17,
   "metadata": {},
   "outputs": [
    {
     "data": {
      "text/plain": [
       "3936"
      ]
     },
     "execution_count": 17,
     "metadata": {},
     "output_type": "execute_result"
    }
   ],
   "source": [
    "first = df['1/1/2010']\n",
    "first.sum()"
   ]
  },
  {
   "cell_type": "code",
   "execution_count": 18,
   "metadata": {},
   "outputs": [],
   "source": [
    "values = first.values\n",
    "labels = [\"FraudFinder\",\"FraudFinder2.0\", \"Other\"]\n",
    "colors = [\"tab:olive\",'tab:red',\"tab:cyan\"]\n",
    "explode = (0.1,0,0)"
   ]
  },
  {
   "cell_type": "code",
   "execution_count": 19,
   "metadata": {},
   "outputs": [
    {
     "data": {
      "image/png": "[encoded data removed]",
      "text/plain": [
       "<Figure size 432x288 with 1 Axes>"
      ]
     },
     "metadata": {},
     "output_type": "display_data"
    }
   ],
   "source": [
    "plt.title('Customer Subscriptions as of 1/1/2010', fontsize=14, fontweight='bold')\n",
    "plt.pie(values, explode=explode, labels=labels, colors=colors,\n",
    "        autopct=\"%1.1f%%\", shadow=True, startangle=140)\n",
    "plt.axis(\"equal\")\n",
    "plt.savefig('./product_count.png',transparent=False, dpi=80, bbox_inches=\"tight\")"
   ]
  },
  {
   "cell_type": "code",
   "execution_count": 23,
   "metadata": {},
   "outputs": [
    {
     "data": {
      "text/plain": [
       "1/1/2010    3936\n",
       "6/1/2010    3739\n",
       "1/1/2011    3592\n",
       "6/1/2011    3397\n",
       "1/1/2012    3186\n",
       "6/1/2012    3107\n",
       "1/1/2013    3027\n",
       "6/1/2013    2940\n",
       "dtype: int64"
      ]
     },
     "execution_count": 23,
     "metadata": {},
     "output_type": "execute_result"
    }
   ],
   "source": [
    "last = df['6/1/2013']\n",
    "last.sum()\n",
    "df.sum()"
   ]
  },
  {
   "cell_type": "code",
   "execution_count": 33,
   "metadata": {},
   "outputs": [
    {
     "data": {
      "image/png": "[encoded data removed]",
      "text/plain": [
       "<Figure size 432x288 with 1 Axes>"
      ]
     },
     "metadata": {},
     "output_type": "display_data"
    }
   ],
   "source": [
    "values = last.values\n",
    "labels = [\"FraudFinder\",\"FraudFinder2.0\", \"Other\"]\n",
    "colors = ['tab:olive','tab:red',\"tab:cyan\"]\n",
    "explode = (0.1,0,0)\n",
    "plt.title('Customer Subscriptions as of 6/1/2013', fontsize=14, fontweight='bold')\n",
    "plt.pie(values, explode=explode, labels=labels, colors=colors,\n",
    "        autopct=\"%1.1f%%\", shadow=True, startangle=140)\n",
    "plt.axis(\"equal\")\n",
    "plt.savefig('./product_count_last.png',transparent=False, dpi=80, bbox_inches=\"tight\")"
   ]
  }
 ],
 "metadata": {
  "kernelspec": {
   "display_name": "Python 3",
   "language": "python",
   "name": "python3"
  },
  "language_info": {
   "codemirror_mode": {
    "name": "ipython",
    "version": 3
   },
   "file_extension": ".py",
   "mimetype": "text/x-python",
   "name": "python",
   "nbconvert_exporter": "python",
   "pygments_lexer": "ipython3",
   "version": "3.7.2"
  }
 },
 "nbformat": 4,
 "nbformat_minor": 2
}
