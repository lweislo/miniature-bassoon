{
 "cells": [
  {
   "cell_type": "code",
   "execution_count": 1,
   "metadata": {},
   "outputs": [],
   "source": [
    "import pandas as pd\n",
    "import numpy as np\n",
    "from matplotlib import pyplot as plt\n",
    "import seaborn as sns"
   ]
  },
  {
   "cell_type": "code",
   "execution_count": 14,
   "metadata": {},
   "outputs": [],
   "source": [
    "df = pd.read_csv('revenue_cleaned.csv')\n",
    "melted = pd.melt(df, id_vars=['Cust_ID','Product Group'], var_name=\"Month\", value_name=\"Revenue\")"
   ]
  },
  {
   "cell_type": "code",
   "execution_count": 15,
   "metadata": {},
   "outputs": [],
   "source": [
    "melted['Year']=melted['Month'].str.split(pat='/', expand=True)[2]\n",
    "# melted.to_csv('melted_ff.csv', index=False)"
   ]
  },
  {
   "cell_type": "code",
   "execution_count": 16,
   "metadata": {},
   "outputs": [],
   "source": [
    "sorted_df = melted.sort_values(by=['Product Group','Revenue'], ascending=False)"
   ]
  },
  {
   "cell_type": "code",
   "execution_count": 26,
   "metadata": {},
   "outputs": [],
   "source": [
    "ff_sorted = sorted_df.loc[sorted_df['Product Group']=='FraudFinder']\n",
    "ff2_sorted = sorted_df.loc[sorted_df['Product Group']=='FraudFinder 2.0.']\n",
    "other_sorted = sorted_df.loc[sorted_df['Product Group']=='Other']"
   ]
  },
  {
   "cell_type": "code",
   "execution_count": 27,
   "metadata": {},
   "outputs": [],
   "source": [
    "ff_sum = ff_sorted.groupby(['Cust_ID','Year'])['Revenue'].sum().reset_index()\n",
    "ff_sum = ff_sum.sort_values(by='Revenue', ascending=False)\n",
    "ff2_sum = ff2_sorted.groupby(['Cust_ID','Year'])['Revenue'].sum().reset_index()\n",
    "ff2_sum = ff2_sum.sort_values(by='Revenue', ascending=False)\n",
    "other_sum = other_sorted.groupby(['Cust_ID','Year'])['Revenue'].sum().reset_index()\n",
    "other_sum = other_sum.sort_values(by='Revenue', ascending=False)\n"
   ]
  },
  {
   "cell_type": "code",
   "execution_count": 28,
   "metadata": {},
   "outputs": [],
   "source": [
    "ff_sum = ff_sum.loc[ff_sum.Revenue !=0]\n",
    "ff2_sum = ff2_sum.loc[ff2_sum.Revenue !=0]\n",
    "other_sum = other_sum.loc[other_sum.Revenue !=0]"
   ]
  },
  {
   "cell_type": "code",
   "execution_count": 29,
   "metadata": {},
   "outputs": [],
   "source": [
    "ff_sum['Product'] = 'FraudFinder'\n",
    "ff2_sum['Product'] = 'FraudFinder 2.0.'\n",
    "other_sum['Product'] = 'Other'"
   ]
  },
  {
   "cell_type": "code",
   "execution_count": 30,
   "metadata": {},
   "outputs": [],
   "source": [
    "df2 = ff_sum.append(ff2_sum)"
   ]
  },
  {
   "cell_type": "code",
   "execution_count": 31,
   "metadata": {},
   "outputs": [],
   "source": [
    "df2 = df2.append(other_sum)"
   ]
  },
  {
   "cell_type": "code",
   "execution_count": 71,
   "metadata": {},
   "outputs": [],
   "source": [
    "df2.sort_values(['Year','Revenue'])\n",
    "y2011 = df2.loc[df2.Year=='2011']\n",
    "top50_2011 = y2011[0:50]"
   ]
  },
  {
   "cell_type": "code",
   "execution_count": 54,
   "metadata": {},
   "outputs": [
    {
     "data": {
      "text/plain": [
       "5258"
      ]
     },
     "execution_count": 54,
     "metadata": {},
     "output_type": "execute_result"
    }
   ],
   "source": [
    "transmax = pd.read_csv('usage_cleaned.csv')\n",
    "len(transmax)"
   ]
  },
  {
   "cell_type": "code",
   "execution_count": 55,
   "metadata": {},
   "outputs": [
    {
     "data": {
      "text/plain": [
       "16"
      ]
     },
     "execution_count": 55,
     "metadata": {},
     "output_type": "execute_result"
    }
   ],
   "source": [
    "outliers = transmax[transmax['# Transactions'] > transmax['# Transactions'].mean() + 3 * transmax['# Transactions'].std()]\n",
    "len(outliers)"
   ]
  },
  {
   "cell_type": "code",
   "execution_count": 306,
   "metadata": {},
   "outputs": [
    {
     "data": {
      "text/html": [
       "<div>\n",
       "<style scoped>\n",
       "    .dataframe tbody tr th:only-of-type {\n",
       "        vertical-align: middle;\n",
       "    }\n",
       "\n",
       "    .dataframe tbody tr th {\n",
       "        vertical-align: top;\n",
       "    }\n",
       "\n",
       "    .dataframe thead th {\n",
       "        text-align: right;\n",
       "    }\n",
       "</style>\n",
       "<table border=\"1\" class=\"dataframe\">\n",
       "  <thead>\n",
       "    <tr style=\"text-align: right;\">\n",
       "      <th></th>\n",
       "      <th># Transactions</th>\n",
       "      <th>Year</th>\n",
       "    </tr>\n",
       "  </thead>\n",
       "  <tbody>\n",
       "    <tr>\n",
       "      <th>count</th>\n",
       "      <td>5.242000e+03</td>\n",
       "      <td>5242.000000</td>\n",
       "    </tr>\n",
       "    <tr>\n",
       "      <th>mean</th>\n",
       "      <td>5.220290e+05</td>\n",
       "      <td>2011.123998</td>\n",
       "    </tr>\n",
       "    <tr>\n",
       "      <th>std</th>\n",
       "      <td>2.092819e+06</td>\n",
       "      <td>0.802757</td>\n",
       "    </tr>\n",
       "    <tr>\n",
       "      <th>min</th>\n",
       "      <td>0.000000e+00</td>\n",
       "      <td>2010.000000</td>\n",
       "    </tr>\n",
       "    <tr>\n",
       "      <th>25%</th>\n",
       "      <td>5.400000e+01</td>\n",
       "      <td>2010.000000</td>\n",
       "    </tr>\n",
       "    <tr>\n",
       "      <th>50%</th>\n",
       "      <td>1.662100e+04</td>\n",
       "      <td>2011.000000</td>\n",
       "    </tr>\n",
       "    <tr>\n",
       "      <th>75%</th>\n",
       "      <td>1.883610e+05</td>\n",
       "      <td>2012.000000</td>\n",
       "    </tr>\n",
       "    <tr>\n",
       "      <th>max</th>\n",
       "      <td>3.708062e+07</td>\n",
       "      <td>2012.000000</td>\n",
       "    </tr>\n",
       "  </tbody>\n",
       "</table>\n",
       "</div>"
      ],
      "text/plain": [
       "       # Transactions         Year\n",
       "count    5.242000e+03  5242.000000\n",
       "mean     5.220290e+05  2011.123998\n",
       "std      2.092819e+06     0.802757\n",
       "min      0.000000e+00  2010.000000\n",
       "25%      5.400000e+01  2010.000000\n",
       "50%      1.662100e+04  2011.000000\n",
       "75%      1.883610e+05  2012.000000\n",
       "max      3.708062e+07  2012.000000"
      ]
     },
     "execution_count": 306,
     "metadata": {},
     "output_type": "execute_result"
    }
   ],
   "source": [
    "transmax2 = transmax[np.abs(transmax['# Transactions']-transmax['# Transactions'].mean()) <= (3*transmax['# Transactions'].std())]\n",
    "transmax2.describe()"
   ]
  },
  {
   "cell_type": "code",
   "execution_count": 293,
   "metadata": {},
   "outputs": [
    {
     "data": {
      "text/plain": [
       "0.0"
      ]
     },
     "execution_count": 293,
     "metadata": {},
     "output_type": "execute_result"
    }
   ],
   "source": [
    "transmax2.loc[transmax2.Year==2011].sort_values(\"# Transactions\", ascending=True)\\\n",
    "        [0:10]['# Transactions'].mean()"
   ]
  },
  {
   "cell_type": "code",
   "execution_count": 298,
   "metadata": {},
   "outputs": [],
   "source": [
    "transmax_nonull = transmax2.loc[transmax2['# Transactions']!=0]"
   ]
  },
  {
   "cell_type": "code",
   "execution_count": 299,
   "metadata": {},
   "outputs": [
    {
     "data": {
      "text/plain": [
       "array([2010, 2011, 2012])"
      ]
     },
     "execution_count": 299,
     "metadata": {},
     "output_type": "execute_result"
    }
   ],
   "source": [
    "years = transmax_nonull.Year.unique()\n",
    "years"
   ]
  },
  {
   "cell_type": "code",
   "execution_count": 300,
   "metadata": {},
   "outputs": [],
   "source": [
    "def top50(n, adf, asc, avg_tx):\n",
    "    years = transmax_nonull.Year.unique()\n",
    "    if asc == True:\n",
    "        sort = 'Bottom'\n",
    "    else:\n",
    "        sort = 'Top'\n",
    "    for item in years:\n",
    "        cust = transmax_nonull.loc[transmax_nonull.Year==item].sort_values('# Transactions', ascending=asc)\\\n",
    "        [0:n].sort_values('# Transactions', ascending=asc)['Customer'].values\n",
    "        \n",
    "        adf[f'{item} {sort} {n}'] = melted.loc[melted['Cust_ID'].isin(cust)].groupby('Product Group')['Revenue'].sum()\n",
    "    \n",
    "        avg_tx.append(transmax_nonull.loc[transmax_nonull.Year==item].sort_values(\"# Transactions\", ascending=asc)\\\n",
    "        [0:n]['# Transactions'].mean())\n"
   ]
  },
  {
   "cell_type": "code",
   "execution_count": 301,
   "metadata": {},
   "outputs": [],
   "source": [
    "def revbyrank(adf, avg_tx):\n",
    "    ranks = [10, 50, 100, 250]\n",
    "    cond = [True, False]\n",
    "    for con in cond:\n",
    "        for item in ranks:\n",
    "            top50(item, adf, con, avg_tx)\n",
    "        "
   ]
  },
  {
   "cell_type": "code",
   "execution_count": 310,
   "metadata": {},
   "outputs": [],
   "source": [
    "adf = pd.DataFrame(columns=['2010 Bottom 10', '2011 Bottom 10', '2012 Bottom 10', '2010 Bottom 50', '2011 Bottom 50', '2012 Bottom 50', '2010 Bottom 100', '2011 Bottom 100', '2012 Bottom 100', '2010 Bottom 250', '2011 Bottom 250', '2012 Bottom 250', '2010 Top 10', '2011 Top 10', '2012 Top 10', '2010 Top 50', '2011 Top 50', '2012 Top 50', '2010 Top 100', '2011 Top 100', '2012 Top 100', '2010 Top 250', '2011 Top 250', '2012 Top 250'])\n",
    "avg_tx = []\n",
    "revbyrank(adf, avg_tx)"
   ]
  },
  {
   "cell_type": "code",
   "execution_count": 311,
   "metadata": {},
   "outputs": [
    {
     "data": {
      "text/plain": [
       "24"
      ]
     },
     "execution_count": 311,
     "metadata": {},
     "output_type": "execute_result"
    }
   ],
   "source": [
    "adf = adf.transpose()\n",
    "len(adf)"
   ]
  },
  {
   "cell_type": "code",
   "execution_count": 314,
   "metadata": {},
   "outputs": [
    {
     "data": {
      "text/plain": [
       "24"
      ]
     },
     "execution_count": 314,
     "metadata": {},
     "output_type": "execute_result"
    }
   ],
   "source": [
    "adf['Avg. Max Transaction'] = avg_tx\n",
    "len(avg_tx)"
   ]
  },
  {
   "cell_type": "code",
   "execution_count": 317,
   "metadata": {},
   "outputs": [
    {
     "name": "stderr",
     "output_type": "stream",
     "text": [
      "/Users/laura/anaconda3/lib/python3.7/site-packages/pandas/plotting/_core.py:185: UserWarning: 'colors' is being deprecated. Please use 'color'instead of 'colors'\n",
      "  warnings.warn((\"'colors' is being deprecated. Please use 'color'\"\n"
     ]
    },
    {
     "data": {
      "text/plain": [
       "Text(0.5, 0, 'Revenue from top X users per year')"
      ]
     },
     "execution_count": 317,
     "metadata": {},
     "output_type": "execute_result"
    },
    {
     "data": {
      "image/png": "[encoded data removed]",
      "text/plain": [
       "<Figure size 720x576 with 1 Axes>"
      ]
     },
     "metadata": {
      "needs_background": "light"
     },
     "output_type": "display_data"
    }
   ],
   "source": [
    "adf.plot(kind='bar', figsize=(10,8), legend=True, colors=['tab:olive','tab:red','tab:cyan','tab:orange'], rot=45, width=1.25)\n",
    "\n",
    "plt.xlabel('Revenue from top X users per year', fontsize=12, fontweight='bold')\n",
    "# plt.ylabel('Revenue', fontsize=12, fontweight='bold')\n",
    "# plt.title('Total Revenue per Product Group Over Time', fontsize=14, fontweight='bold')\n",
    "# plt.legend(loc='best')\n",
    "# plt.savefig('./revenue_summary.png',transparent=False, dpi=80, bbox_inches=\"tight\")"
   ]
  },
  {
   "cell_type": "code",
   "execution_count": 57,
   "metadata": {},
   "outputs": [
    {
     "data": {
      "text/html": [
       "<div>\n",
       "<style scoped>\n",
       "    .dataframe tbody tr th:only-of-type {\n",
       "        vertical-align: middle;\n",
       "    }\n",
       "\n",
       "    .dataframe tbody tr th {\n",
       "        vertical-align: top;\n",
       "    }\n",
       "\n",
       "    .dataframe thead th {\n",
       "        text-align: right;\n",
       "    }\n",
       "</style>\n",
       "<table border=\"1\" class=\"dataframe\">\n",
       "  <thead>\n",
       "    <tr style=\"text-align: right;\">\n",
       "      <th></th>\n",
       "      <th>Cust_ID</th>\n",
       "      <th>Year_x</th>\n",
       "      <th>Revenue</th>\n",
       "      <th>Product</th>\n",
       "      <th>Customer</th>\n",
       "      <th># Transactions</th>\n",
       "      <th>Year_y</th>\n",
       "    </tr>\n",
       "  </thead>\n",
       "  <tbody>\n",
       "    <tr>\n",
       "      <th>0</th>\n",
       "      <td>CUSTOMER 774</td>\n",
       "      <td>2010</td>\n",
       "      <td>90375.80</td>\n",
       "      <td>FraudFinder</td>\n",
       "      <td>CUSTOMER 774</td>\n",
       "      <td>192</td>\n",
       "      <td>2011</td>\n",
       "    </tr>\n",
       "    <tr>\n",
       "      <th>1</th>\n",
       "      <td>CUSTOMER 774</td>\n",
       "      <td>2012</td>\n",
       "      <td>19028.85</td>\n",
       "      <td>FraudFinder</td>\n",
       "      <td>CUSTOMER 774</td>\n",
       "      <td>192</td>\n",
       "      <td>2011</td>\n",
       "    </tr>\n",
       "    <tr>\n",
       "      <th>2</th>\n",
       "      <td>CUSTOMER 774</td>\n",
       "      <td>2011</td>\n",
       "      <td>15838.20</td>\n",
       "      <td>FraudFinder</td>\n",
       "      <td>CUSTOMER 774</td>\n",
       "      <td>192</td>\n",
       "      <td>2011</td>\n",
       "    </tr>\n",
       "    <tr>\n",
       "      <th>3</th>\n",
       "      <td>CUSTOMER 774</td>\n",
       "      <td>2013</td>\n",
       "      <td>11811.00</td>\n",
       "      <td>FraudFinder</td>\n",
       "      <td>CUSTOMER 774</td>\n",
       "      <td>192</td>\n",
       "      <td>2011</td>\n",
       "    </tr>\n",
       "    <tr>\n",
       "      <th>4</th>\n",
       "      <td>CUSTOMER 774</td>\n",
       "      <td>2012</td>\n",
       "      <td>139199.66</td>\n",
       "      <td>FraudFinder 2.0.</td>\n",
       "      <td>CUSTOMER 774</td>\n",
       "      <td>192</td>\n",
       "      <td>2011</td>\n",
       "    </tr>\n",
       "  </tbody>\n",
       "</table>\n",
       "</div>"
      ],
      "text/plain": [
       "        Cust_ID Year_x    Revenue           Product      Customer  \\\n",
       "0  CUSTOMER 774   2010   90375.80       FraudFinder  CUSTOMER 774   \n",
       "1  CUSTOMER 774   2012   19028.85       FraudFinder  CUSTOMER 774   \n",
       "2  CUSTOMER 774   2011   15838.20       FraudFinder  CUSTOMER 774   \n",
       "3  CUSTOMER 774   2013   11811.00       FraudFinder  CUSTOMER 774   \n",
       "4  CUSTOMER 774   2012  139199.66  FraudFinder 2.0.  CUSTOMER 774   \n",
       "\n",
       "   # Transactions  Year_y  \n",
       "0             192    2011  \n",
       "1             192    2011  \n",
       "2             192    2011  \n",
       "3             192    2011  \n",
       "4             192    2011  "
      ]
     },
     "execution_count": 57,
     "metadata": {},
     "output_type": "execute_result"
    }
   ],
   "source": [
    "df3 = df2.merge(transmax2, left_on=['Cust_ID'], right_on=['Customer'])\n",
    "df3.head()"
   ]
  },
  {
   "cell_type": "code",
   "execution_count": 42,
   "metadata": {},
   "outputs": [],
   "source": [
    "df3.drop_duplicates(keep='first', inplace=True)"
   ]
  },
  {
   "cell_type": "code",
   "execution_count": 119,
   "metadata": {},
   "outputs": [],
   "source": [
    "# df3"
   ]
  },
  {
   "cell_type": "code",
   "execution_count": 44,
   "metadata": {},
   "outputs": [],
   "source": [
    "df3['Year_x'] = df3['Year_x'].astype(int)\n",
    "df3 = df3[df3['Year_x'] == df3['Year_y']] \n",
    "df3 = df3.drop(columns='Year_y', axis=1)\n",
    "df3 = df3.rename(columns={'Year_x':'Year'})\n",
    "# df3.to_csv('transactions.csv')"
   ]
  },
  {
   "cell_type": "code",
   "execution_count": 120,
   "metadata": {},
   "outputs": [],
   "source": [
    "# df3"
   ]
  },
  {
   "cell_type": "code",
   "execution_count": 46,
   "metadata": {},
   "outputs": [],
   "source": [
    "df3 = df3.loc[df3['# Transactions'] != 0]\n",
    "df_ff2 = df3.loc[df3['Product'] == 'FraudFinder 2.0.']\n",
    "df_ff = df3.loc[df3['Product'] == 'FraudFinder']\n",
    "df_o = df3.loc[df3['Product'] == 'Other']"
   ]
  },
  {
   "cell_type": "code",
   "execution_count": 47,
   "metadata": {},
   "outputs": [
    {
     "name": "stderr",
     "output_type": "stream",
     "text": [
      "No handles with labels found to put in legend.\n"
     ]
    },
    {
     "data": {
      "text/plain": [
       "<matplotlib.axes._subplots.AxesSubplot at 0x1a29476b38>"
      ]
     },
     "execution_count": 47,
     "metadata": {},
     "output_type": "execute_result"
    },
    {
     "data": {
      "image/png": "[encoded data removed]",
      "text/plain": [
       "<Figure size 720x576 with 1 Axes>"
      ]
     },
     "metadata": {
      "needs_background": "light"
     },
     "output_type": "display_data"
    }
   ],
   "source": [
    "fig, ax = plt.subplots(figsize=(10,8), subplot_kw={'ylim':(-8000,80000), 'xlim':(0,2e8)})\n",
    "plt.xlabel('Transactions', fontsize=12, fontweight='bold')\n",
    "plt.ylabel('Revenue', fontsize=12, fontweight='bold')\n",
    "plt.title(f\"Revenue per Product vs. Max Monthly Transactions\", fontsize=14, fontweight='bold')\n",
    "plt.legend(loc='best')\n",
    "# plt.savefig('.revtrans.png')\n",
    "df_ff.plot(ax=ax, kind=\"scatter\", grid=True, x='# Transactions',y=\"Revenue\", s=40, color=\"tab:olive\", edgecolors=\"tab:blue\", marker='x', label='FraudFinder')\n",
    "df_ff2.plot(ax=ax, kind=\"scatter\", grid=True, x='# Transactions',y=\"Revenue\", s=40, color=\"tab:red\", edgecolors=\"tab:blue\", marker='o', label='FraudFinder2')\n",
    "# df_o.plot(ax=ax, kind=\"scatter\", grid=True, x='# Transactions',y=\"Revenue\", s=40, color=\"tab:cyan\", edgecolors=\"tab:blue\", marker='.', label='Other')\n"
   ]
  },
  {
   "cell_type": "code",
   "execution_count": null,
   "metadata": {},
   "outputs": [],
   "source": []
  }
 ],
 "metadata": {
  "kernelspec": {
   "display_name": "Python 3",
   "language": "python",
   "name": "python3"
  },
  "language_info": {
   "codemirror_mode": {
    "name": "ipython",
    "version": 3
   },
   "file_extension": ".py",
   "mimetype": "text/x-python",
   "name": "python",
   "nbconvert_exporter": "python",
   "pygments_lexer": "ipython3",
   "version": "3.7.2"
  }
 },
 "nbformat": 4,
 "nbformat_minor": 2
}
