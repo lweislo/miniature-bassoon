{
 "cells": [
  {
   "cell_type": "code",
   "execution_count": 37,
   "metadata": {},
   "outputs": [],
   "source": [
    "import pandas as pd\n",
    "import numpy as np\n",
    "from matplotlib import pyplot as plt\n",
    "import seaborn as sns\n",
    "from scipy import stats\n",
    "import datetime as dt\n",
    "import warnings\n",
    "warnings.simplefilter(action='ignore', category=FutureWarning)"
   ]
  },
  {
   "cell_type": "code",
   "execution_count": 6,
   "metadata": {},
   "outputs": [],
   "source": [
    "df = pd.read_csv('revenue_cleaned.csv')\n",
    "melted = pd.melt(df, id_vars=['Cust_ID','Product Group'], var_name=\"Month\", value_name=\"Revenue\")"
   ]
  },
  {
   "cell_type": "code",
   "execution_count": 106,
   "metadata": {},
   "outputs": [
    {
     "data": {
      "text/plain": [
       "Cust_ID                  object\n",
       "Product Group            object\n",
       "Month            datetime64[ns]\n",
       "Revenue                 float64\n",
       "Year                      int64\n",
       "dtype: object"
      ]
     },
     "execution_count": 106,
     "metadata": {},
     "output_type": "execute_result"
    }
   ],
   "source": [
    "# Making the month columns into a date time object\n",
    "melted['Month'] = pd.to_datetime(melted['Month'], format='%m/%d/%Y')\n",
    "melted.dtypes"
   ]
  },
  {
   "cell_type": "code",
   "execution_count": 14,
   "metadata": {},
   "outputs": [
    {
     "data": {
      "text/html": [
       "<div>\n",
       "<style scoped>\n",
       "    .dataframe tbody tr th:only-of-type {\n",
       "        vertical-align: middle;\n",
       "    }\n",
       "\n",
       "    .dataframe tbody tr th {\n",
       "        vertical-align: top;\n",
       "    }\n",
       "\n",
       "    .dataframe thead th {\n",
       "        text-align: right;\n",
       "    }\n",
       "</style>\n",
       "<table border=\"1\" class=\"dataframe\">\n",
       "  <thead>\n",
       "    <tr style=\"text-align: right;\">\n",
       "      <th></th>\n",
       "      <th>Cust_ID</th>\n",
       "      <th>Product Group</th>\n",
       "      <th>Month</th>\n",
       "      <th>Revenue</th>\n",
       "      <th>Year</th>\n",
       "    </tr>\n",
       "  </thead>\n",
       "  <tbody>\n",
       "    <tr>\n",
       "      <th>0</th>\n",
       "      <td>CUSTOMER 1</td>\n",
       "      <td>FraudFinder 2.0.</td>\n",
       "      <td>2010-01-01</td>\n",
       "      <td>172.24</td>\n",
       "      <td>2010</td>\n",
       "    </tr>\n",
       "    <tr>\n",
       "      <th>3871</th>\n",
       "      <td>CUSTOMER 2761</td>\n",
       "      <td>FraudFinder 2.0.</td>\n",
       "      <td>2010-01-01</td>\n",
       "      <td>234.91</td>\n",
       "      <td>2010</td>\n",
       "    </tr>\n",
       "    <tr>\n",
       "      <th>1451</th>\n",
       "      <td>CUSTOMER 1037</td>\n",
       "      <td>FraudFinder</td>\n",
       "      <td>2010-01-01</td>\n",
       "      <td>49.21</td>\n",
       "      <td>2010</td>\n",
       "    </tr>\n",
       "    <tr>\n",
       "      <th>3869</th>\n",
       "      <td>CUSTOMER 2759</td>\n",
       "      <td>FraudFinder 2.0.</td>\n",
       "      <td>2010-01-01</td>\n",
       "      <td>0.00</td>\n",
       "      <td>2010</td>\n",
       "    </tr>\n",
       "    <tr>\n",
       "      <th>2905</th>\n",
       "      <td>CUSTOMER 2044</td>\n",
       "      <td>FraudFinder 2.0.</td>\n",
       "      <td>2010-01-01</td>\n",
       "      <td>0.00</td>\n",
       "      <td>2010</td>\n",
       "    </tr>\n",
       "  </tbody>\n",
       "</table>\n",
       "</div>"
      ],
      "text/plain": [
       "            Cust_ID     Product Group      Month  Revenue  Year\n",
       "0        CUSTOMER 1  FraudFinder 2.0. 2010-01-01   172.24  2010\n",
       "3871  CUSTOMER 2761  FraudFinder 2.0. 2010-01-01   234.91  2010\n",
       "1451  CUSTOMER 1037       FraudFinder 2010-01-01    49.21  2010\n",
       "3869  CUSTOMER 2759  FraudFinder 2.0. 2010-01-01     0.00  2010\n",
       "2905  CUSTOMER 2044  FraudFinder 2.0. 2010-01-01     0.00  2010"
      ]
     },
     "execution_count": 14,
     "metadata": {},
     "output_type": "execute_result"
    }
   ],
   "source": [
    "# Adding Year for grouping \n",
    "melted = melted.sort_values(by='Month', ascending=True)\n",
    "melted['Year'] = melted.Month.dt.year\n",
    "melted.head()"
   ]
  },
  {
   "cell_type": "code",
   "execution_count": 15,
   "metadata": {},
   "outputs": [],
   "source": [
    "grouped = melted.groupby(['Product Group','Year']).sum()"
   ]
  },
  {
   "cell_type": "code",
   "execution_count": 18,
   "metadata": {},
   "outputs": [
    {
     "data": {
      "text/html": [
       "<div>\n",
       "<style scoped>\n",
       "    .dataframe tbody tr th:only-of-type {\n",
       "        vertical-align: middle;\n",
       "    }\n",
       "\n",
       "    .dataframe tbody tr th {\n",
       "        vertical-align: top;\n",
       "    }\n",
       "\n",
       "    .dataframe thead th {\n",
       "        text-align: right;\n",
       "    }\n",
       "</style>\n",
       "<table border=\"1\" class=\"dataframe\">\n",
       "  <thead>\n",
       "    <tr style=\"text-align: right;\">\n",
       "      <th></th>\n",
       "      <th></th>\n",
       "      <th>Revenue</th>\n",
       "      <th>pct_pop</th>\n",
       "      <th>pct_yoy</th>\n",
       "    </tr>\n",
       "    <tr>\n",
       "      <th>Product Group</th>\n",
       "      <th>Year</th>\n",
       "      <th></th>\n",
       "      <th></th>\n",
       "      <th></th>\n",
       "    </tr>\n",
       "  </thead>\n",
       "  <tbody>\n",
       "    <tr>\n",
       "      <th rowspan=\"4\" valign=\"top\">FraudFinder</th>\n",
       "      <th>2010</th>\n",
       "      <td>5500746.37</td>\n",
       "      <td>NaN</td>\n",
       "      <td>NaN</td>\n",
       "    </tr>\n",
       "    <tr>\n",
       "      <th>2011</th>\n",
       "      <td>4630352.42</td>\n",
       "      <td>-0.158232</td>\n",
       "      <td>NaN</td>\n",
       "    </tr>\n",
       "    <tr>\n",
       "      <th>2012</th>\n",
       "      <td>3436589.65</td>\n",
       "      <td>-0.257813</td>\n",
       "      <td>NaN</td>\n",
       "    </tr>\n",
       "    <tr>\n",
       "      <th>2013</th>\n",
       "      <td>1557334.17</td>\n",
       "      <td>-0.546837</td>\n",
       "      <td>NaN</td>\n",
       "    </tr>\n",
       "    <tr>\n",
       "      <th rowspan=\"4\" valign=\"top\">FraudFinder 2.0.</th>\n",
       "      <th>2010</th>\n",
       "      <td>6956933.07</td>\n",
       "      <td>3.467206</td>\n",
       "      <td>NaN</td>\n",
       "    </tr>\n",
       "    <tr>\n",
       "      <th>2011</th>\n",
       "      <td>9496831.72</td>\n",
       "      <td>0.365089</td>\n",
       "      <td>NaN</td>\n",
       "    </tr>\n",
       "    <tr>\n",
       "      <th>2012</th>\n",
       "      <td>12131920.97</td>\n",
       "      <td>0.277470</td>\n",
       "      <td>NaN</td>\n",
       "    </tr>\n",
       "    <tr>\n",
       "      <th>2013</th>\n",
       "      <td>6674236.73</td>\n",
       "      <td>-0.449862</td>\n",
       "      <td>NaN</td>\n",
       "    </tr>\n",
       "    <tr>\n",
       "      <th rowspan=\"4\" valign=\"top\">Other</th>\n",
       "      <th>2010</th>\n",
       "      <td>518072.34</td>\n",
       "      <td>-0.922377</td>\n",
       "      <td>NaN</td>\n",
       "    </tr>\n",
       "    <tr>\n",
       "      <th>2011</th>\n",
       "      <td>744834.01</td>\n",
       "      <td>0.437703</td>\n",
       "      <td>NaN</td>\n",
       "    </tr>\n",
       "    <tr>\n",
       "      <th>2012</th>\n",
       "      <td>1270390.13</td>\n",
       "      <td>0.705602</td>\n",
       "      <td>NaN</td>\n",
       "    </tr>\n",
       "    <tr>\n",
       "      <th>2013</th>\n",
       "      <td>892198.81</td>\n",
       "      <td>-0.297697</td>\n",
       "      <td>NaN</td>\n",
       "    </tr>\n",
       "  </tbody>\n",
       "</table>\n",
       "</div>"
      ],
      "text/plain": [
       "                           Revenue   pct_pop  pct_yoy\n",
       "Product Group    Year                                \n",
       "FraudFinder      2010   5500746.37       NaN      NaN\n",
       "                 2011   4630352.42 -0.158232      NaN\n",
       "                 2012   3436589.65 -0.257813      NaN\n",
       "                 2013   1557334.17 -0.546837      NaN\n",
       "FraudFinder 2.0. 2010   6956933.07  3.467206      NaN\n",
       "                 2011   9496831.72  0.365089      NaN\n",
       "                 2012  12131920.97  0.277470      NaN\n",
       "                 2013   6674236.73 -0.449862      NaN\n",
       "Other            2010    518072.34 -0.922377      NaN\n",
       "                 2011    744834.01  0.437703      NaN\n",
       "                 2012   1270390.13  0.705602      NaN\n",
       "                 2013    892198.81 -0.297697      NaN"
      ]
     },
     "execution_count": 18,
     "metadata": {},
     "output_type": "execute_result"
    }
   ],
   "source": [
    "grouped['pct_pop'] = grouped['Revenue'].pct_change()\n",
    "grouped\n",
    "# Nothing really new to see here"
   ]
  },
  {
   "cell_type": "code",
   "execution_count": 19,
   "metadata": {},
   "outputs": [
    {
     "data": {
      "text/html": [
       "<div>\n",
       "<style scoped>\n",
       "    .dataframe tbody tr th:only-of-type {\n",
       "        vertical-align: middle;\n",
       "    }\n",
       "\n",
       "    .dataframe tbody tr th {\n",
       "        vertical-align: top;\n",
       "    }\n",
       "\n",
       "    .dataframe thead th {\n",
       "        text-align: right;\n",
       "    }\n",
       "</style>\n",
       "<table border=\"1\" class=\"dataframe\">\n",
       "  <thead>\n",
       "    <tr style=\"text-align: right;\">\n",
       "      <th></th>\n",
       "      <th># Transactions</th>\n",
       "      <th>Year</th>\n",
       "    </tr>\n",
       "  </thead>\n",
       "  <tbody>\n",
       "    <tr>\n",
       "      <th>count</th>\n",
       "      <td>5.258000e+03</td>\n",
       "      <td>5258.000000</td>\n",
       "    </tr>\n",
       "    <tr>\n",
       "      <th>mean</th>\n",
       "      <td>9.404141e+05</td>\n",
       "      <td>2011.124572</td>\n",
       "    </tr>\n",
       "    <tr>\n",
       "      <th>std</th>\n",
       "      <td>1.257826e+07</td>\n",
       "      <td>0.802484</td>\n",
       "    </tr>\n",
       "    <tr>\n",
       "      <th>min</th>\n",
       "      <td>0.000000e+00</td>\n",
       "      <td>2010.000000</td>\n",
       "    </tr>\n",
       "    <tr>\n",
       "      <th>25%</th>\n",
       "      <td>5.650000e+01</td>\n",
       "      <td>2010.000000</td>\n",
       "    </tr>\n",
       "    <tr>\n",
       "      <th>50%</th>\n",
       "      <td>1.687800e+04</td>\n",
       "      <td>2011.000000</td>\n",
       "    </tr>\n",
       "    <tr>\n",
       "      <th>75%</th>\n",
       "      <td>1.918688e+05</td>\n",
       "      <td>2012.000000</td>\n",
       "    </tr>\n",
       "    <tr>\n",
       "      <th>max</th>\n",
       "      <td>8.021170e+08</td>\n",
       "      <td>2012.000000</td>\n",
       "    </tr>\n",
       "  </tbody>\n",
       "</table>\n",
       "</div>"
      ],
      "text/plain": [
       "       # Transactions         Year\n",
       "count    5.258000e+03  5258.000000\n",
       "mean     9.404141e+05  2011.124572\n",
       "std      1.257826e+07     0.802484\n",
       "min      0.000000e+00  2010.000000\n",
       "25%      5.650000e+01  2010.000000\n",
       "50%      1.687800e+04  2011.000000\n",
       "75%      1.918688e+05  2012.000000\n",
       "max      8.021170e+08  2012.000000"
      ]
     },
     "execution_count": 19,
     "metadata": {},
     "output_type": "execute_result"
    }
   ],
   "source": [
    "transmax = pd.read_csv('usage_cleaned.csv')\n",
    "transmax.describe()"
   ]
  },
  {
   "cell_type": "code",
   "execution_count": 107,
   "metadata": {},
   "outputs": [
    {
     "data": {
      "text/plain": [
       "array(['CUSTOMER 184', 'CUSTOMER 284', 'CUSTOMER 3040', 'CUSTOMER 3542',\n",
       "       'CUSTOMER 3585', 'CUSTOMER 4038', 'CUSTOMER 319', 'CUSTOMER 774',\n",
       "       'CUSTOMER 1773', 'CUSTOMER 2812'], dtype=object)"
      ]
     },
     "execution_count": 107,
     "metadata": {},
     "output_type": "execute_result"
    }
   ],
   "source": [
    "# Maybe try removing some outliers?\n",
    "outliers = transmax[transmax['# Transactions'] > transmax['# Transactions'].mean() + 3 * transmax['# Transactions'].std()]\n",
    "outliers.Customer.unique()"
   ]
  },
  {
   "cell_type": "code",
   "execution_count": 112,
   "metadata": {},
   "outputs": [
    {
     "data": {
      "text/html": [
       "<div>\n",
       "<style scoped>\n",
       "    .dataframe tbody tr th:only-of-type {\n",
       "        vertical-align: middle;\n",
       "    }\n",
       "\n",
       "    .dataframe tbody tr th {\n",
       "        vertical-align: top;\n",
       "    }\n",
       "\n",
       "    .dataframe thead th {\n",
       "        text-align: right;\n",
       "    }\n",
       "</style>\n",
       "<table border=\"1\" class=\"dataframe\">\n",
       "  <thead>\n",
       "    <tr style=\"text-align: right;\">\n",
       "      <th></th>\n",
       "      <th># Transactions</th>\n",
       "      <th>Year</th>\n",
       "    </tr>\n",
       "  </thead>\n",
       "  <tbody>\n",
       "    <tr>\n",
       "      <th>count</th>\n",
       "      <td>5.242000e+03</td>\n",
       "      <td>5242.000000</td>\n",
       "    </tr>\n",
       "    <tr>\n",
       "      <th>mean</th>\n",
       "      <td>5.220290e+05</td>\n",
       "      <td>2011.123998</td>\n",
       "    </tr>\n",
       "    <tr>\n",
       "      <th>std</th>\n",
       "      <td>2.092819e+06</td>\n",
       "      <td>0.802757</td>\n",
       "    </tr>\n",
       "    <tr>\n",
       "      <th>min</th>\n",
       "      <td>0.000000e+00</td>\n",
       "      <td>2010.000000</td>\n",
       "    </tr>\n",
       "    <tr>\n",
       "      <th>25%</th>\n",
       "      <td>5.400000e+01</td>\n",
       "      <td>2010.000000</td>\n",
       "    </tr>\n",
       "    <tr>\n",
       "      <th>50%</th>\n",
       "      <td>1.662100e+04</td>\n",
       "      <td>2011.000000</td>\n",
       "    </tr>\n",
       "    <tr>\n",
       "      <th>75%</th>\n",
       "      <td>1.883610e+05</td>\n",
       "      <td>2012.000000</td>\n",
       "    </tr>\n",
       "    <tr>\n",
       "      <th>max</th>\n",
       "      <td>3.708062e+07</td>\n",
       "      <td>2012.000000</td>\n",
       "    </tr>\n",
       "  </tbody>\n",
       "</table>\n",
       "</div>"
      ],
      "text/plain": [
       "       # Transactions         Year\n",
       "count    5.242000e+03  5242.000000\n",
       "mean     5.220290e+05  2011.123998\n",
       "std      2.092819e+06     0.802757\n",
       "min      0.000000e+00  2010.000000\n",
       "25%      5.400000e+01  2010.000000\n",
       "50%      1.662100e+04  2011.000000\n",
       "75%      1.883610e+05  2012.000000\n",
       "max      3.708062e+07  2012.000000"
      ]
     },
     "execution_count": 112,
     "metadata": {},
     "output_type": "execute_result"
    }
   ],
   "source": [
    "transmax2 = transmax[np.abs(transmax['# Transactions']-transmax['# Transactions'].mean()) <= (3*transmax['# Transactions'].std())]\n",
    "transmax2.describe()\n",
    "# Doesn't seem to do much"
   ]
  },
  {
   "cell_type": "code",
   "execution_count": 113,
   "metadata": {},
   "outputs": [],
   "source": [
    "# Get rid of columns where there were no transactions\n",
    "transmax_nonull = transmax2.loc[transmax2['# Transactions']!=0]"
   ]
  },
  {
   "cell_type": "code",
   "execution_count": 114,
   "metadata": {},
   "outputs": [
    {
     "data": {
      "text/plain": [
       "array([2010, 2011, 2012])"
      ]
     },
     "execution_count": 114,
     "metadata": {},
     "output_type": "execute_result"
    }
   ],
   "source": [
    "years = transmax_nonull.Year.unique()\n",
    "years"
   ]
  },
  {
   "cell_type": "code",
   "execution_count": 115,
   "metadata": {},
   "outputs": [],
   "source": [
    "def topX(n, adf, asc, avg_tx):\n",
    "\n",
    "    years = transmax.Year.unique()\n",
    "    if asc == True:\n",
    "        sort = 'Bottom'\n",
    "    else:\n",
    "        sort = 'Top'\n",
    "    for item in years:\n",
    "        cust = transmax.loc[transmax.Year==item].sort_values('# Transactions', ascending=asc)\\\n",
    "        [0:n].sort_values('# Transactions', ascending=asc)['Customer'].values\n",
    "        \n",
    "        selected = melted.loc[melted['Year']==item]\n",
    "        adf[f'{item} {sort} {n}'] = selected.loc[selected['Cust_ID'].isin(cust)].groupby('Product Group')['Revenue'].mean()\n",
    "    \n",
    "        avg_tx.append(transmax.loc[transmax.Year==item].sort_values(\"# Transactions\", ascending=asc)\\\n",
    "        [0:n]['# Transactions'].mean())\n",
    "        \n",
    "   \n"
   ]
  },
  {
   "cell_type": "code",
   "execution_count": 116,
   "metadata": {},
   "outputs": [],
   "source": [
    "def revbyrank(adf, avg_tx):\n",
    "    ranks = [10, 50, 100, 250]\n",
    "    cond = [True, False]\n",
    "    for con in cond:\n",
    "        for item in ranks:\n",
    "            topX(item, adf, con, avg_tx)\n",
    "    return(adf, avg_tx)"
   ]
  },
  {
   "cell_type": "code",
   "execution_count": 117,
   "metadata": {},
   "outputs": [],
   "source": [
    "adf = pd.DataFrame()\n",
    "avg_tx = []"
   ]
  },
  {
   "cell_type": "code",
   "execution_count": 118,
   "metadata": {},
   "outputs": [
    {
     "data": {
      "text/html": [
       "<div>\n",
       "<style scoped>\n",
       "    .dataframe tbody tr th:only-of-type {\n",
       "        vertical-align: middle;\n",
       "    }\n",
       "\n",
       "    .dataframe tbody tr th {\n",
       "        vertical-align: top;\n",
       "    }\n",
       "\n",
       "    .dataframe thead th {\n",
       "        text-align: right;\n",
       "    }\n",
       "</style>\n",
       "<table border=\"1\" class=\"dataframe\">\n",
       "  <thead>\n",
       "    <tr style=\"text-align: right;\">\n",
       "      <th></th>\n",
       "      <th>2010 Bottom 10</th>\n",
       "      <th>2011 Bottom 10</th>\n",
       "      <th>2012 Bottom 10</th>\n",
       "      <th>2010 Bottom 50</th>\n",
       "      <th>2011 Bottom 50</th>\n",
       "      <th>2012 Bottom 50</th>\n",
       "      <th>2010 Bottom 100</th>\n",
       "      <th>2011 Bottom 100</th>\n",
       "      <th>2012 Bottom 100</th>\n",
       "      <th>2010 Bottom 250</th>\n",
       "      <th>...</th>\n",
       "      <th>2012 Top 10</th>\n",
       "      <th>2010 Top 50</th>\n",
       "      <th>2011 Top 50</th>\n",
       "      <th>2012 Top 50</th>\n",
       "      <th>2010 Top 100</th>\n",
       "      <th>2011 Top 100</th>\n",
       "      <th>2012 Top 100</th>\n",
       "      <th>2010 Top 250</th>\n",
       "      <th>2011 Top 250</th>\n",
       "      <th>2012 Top 250</th>\n",
       "    </tr>\n",
       "    <tr>\n",
       "      <th>Product Group</th>\n",
       "      <th></th>\n",
       "      <th></th>\n",
       "      <th></th>\n",
       "      <th></th>\n",
       "      <th></th>\n",
       "      <th></th>\n",
       "      <th></th>\n",
       "      <th></th>\n",
       "      <th></th>\n",
       "      <th></th>\n",
       "      <th></th>\n",
       "      <th></th>\n",
       "      <th></th>\n",
       "      <th></th>\n",
       "      <th></th>\n",
       "      <th></th>\n",
       "      <th></th>\n",
       "      <th></th>\n",
       "      <th></th>\n",
       "      <th></th>\n",
       "      <th></th>\n",
       "    </tr>\n",
       "  </thead>\n",
       "  <tbody>\n",
       "    <tr>\n",
       "      <th>FraudFinder</th>\n",
       "      <td>76.033611</td>\n",
       "      <td>34.789375</td>\n",
       "      <td>31.681250</td>\n",
       "      <td>146.663095</td>\n",
       "      <td>79.825667</td>\n",
       "      <td>33.901806</td>\n",
       "      <td>130.727415</td>\n",
       "      <td>133.339889</td>\n",
       "      <td>48.172976</td>\n",
       "      <td>107.863451</td>\n",
       "      <td>...</td>\n",
       "      <td>384.995694</td>\n",
       "      <td>350.570238</td>\n",
       "      <td>366.701538</td>\n",
       "      <td>165.625000</td>\n",
       "      <td>267.193056</td>\n",
       "      <td>262.029574</td>\n",
       "      <td>104.347790</td>\n",
       "      <td>191.716650</td>\n",
       "      <td>164.292318</td>\n",
       "      <td>88.558307</td>\n",
       "    </tr>\n",
       "    <tr>\n",
       "      <th>FraudFinder 2.0.</th>\n",
       "      <td>103.121583</td>\n",
       "      <td>104.718917</td>\n",
       "      <td>133.025208</td>\n",
       "      <td>92.043850</td>\n",
       "      <td>113.087633</td>\n",
       "      <td>159.497011</td>\n",
       "      <td>84.299183</td>\n",
       "      <td>106.227308</td>\n",
       "      <td>354.521498</td>\n",
       "      <td>105.518199</td>\n",
       "      <td>...</td>\n",
       "      <td>3678.323917</td>\n",
       "      <td>798.515617</td>\n",
       "      <td>1113.005680</td>\n",
       "      <td>1817.420800</td>\n",
       "      <td>588.175308</td>\n",
       "      <td>872.374337</td>\n",
       "      <td>1390.108542</td>\n",
       "      <td>384.374069</td>\n",
       "      <td>602.224298</td>\n",
       "      <td>878.266690</td>\n",
       "    </tr>\n",
       "    <tr>\n",
       "      <th>Other</th>\n",
       "      <td>0.000000</td>\n",
       "      <td>-0.001389</td>\n",
       "      <td>0.000000</td>\n",
       "      <td>0.000000</td>\n",
       "      <td>24.496481</td>\n",
       "      <td>2.465583</td>\n",
       "      <td>1.875556</td>\n",
       "      <td>117.767051</td>\n",
       "      <td>-5.017197</td>\n",
       "      <td>40.593778</td>\n",
       "      <td>...</td>\n",
       "      <td>-185.826667</td>\n",
       "      <td>80.645064</td>\n",
       "      <td>220.938333</td>\n",
       "      <td>8.805641</td>\n",
       "      <td>61.948929</td>\n",
       "      <td>129.957982</td>\n",
       "      <td>5.203333</td>\n",
       "      <td>57.319444</td>\n",
       "      <td>73.500154</td>\n",
       "      <td>158.675985</td>\n",
       "    </tr>\n",
       "  </tbody>\n",
       "</table>\n",
       "<p>3 rows × 24 columns</p>\n",
       "</div>"
      ],
      "text/plain": [
       "                  2010 Bottom 10  2011 Bottom 10  2012 Bottom 10  \\\n",
       "Product Group                                                      \n",
       "FraudFinder            76.033611       34.789375       31.681250   \n",
       "FraudFinder 2.0.      103.121583      104.718917      133.025208   \n",
       "Other                   0.000000       -0.001389        0.000000   \n",
       "\n",
       "                  2010 Bottom 50  2011 Bottom 50  2012 Bottom 50  \\\n",
       "Product Group                                                      \n",
       "FraudFinder           146.663095       79.825667       33.901806   \n",
       "FraudFinder 2.0.       92.043850      113.087633      159.497011   \n",
       "Other                   0.000000       24.496481        2.465583   \n",
       "\n",
       "                  2010 Bottom 100  2011 Bottom 100  2012 Bottom 100  \\\n",
       "Product Group                                                         \n",
       "FraudFinder            130.727415       133.339889        48.172976   \n",
       "FraudFinder 2.0.        84.299183       106.227308       354.521498   \n",
       "Other                    1.875556       117.767051        -5.017197   \n",
       "\n",
       "                  2010 Bottom 250  ...  2012 Top 10  2010 Top 50  2011 Top 50  \\\n",
       "Product Group                      ...                                          \n",
       "FraudFinder            107.863451  ...   384.995694   350.570238   366.701538   \n",
       "FraudFinder 2.0.       105.518199  ...  3678.323917   798.515617  1113.005680   \n",
       "Other                   40.593778  ...  -185.826667    80.645064   220.938333   \n",
       "\n",
       "                  2012 Top 50  2010 Top 100  2011 Top 100  2012 Top 100  \\\n",
       "Product Group                                                             \n",
       "FraudFinder        165.625000    267.193056    262.029574    104.347790   \n",
       "FraudFinder 2.0.  1817.420800    588.175308    872.374337   1390.108542   \n",
       "Other                8.805641     61.948929    129.957982      5.203333   \n",
       "\n",
       "                  2010 Top 250  2011 Top 250  2012 Top 250  \n",
       "Product Group                                               \n",
       "FraudFinder         191.716650    164.292318     88.558307  \n",
       "FraudFinder 2.0.    384.374069    602.224298    878.266690  \n",
       "Other                57.319444     73.500154    158.675985  \n",
       "\n",
       "[3 rows x 24 columns]"
      ]
     },
     "execution_count": 118,
     "metadata": {},
     "output_type": "execute_result"
    }
   ],
   "source": [
    "adf, avg_tx = revbyrank(adf, avg_tx)\n",
    "adf "
   ]
  },
  {
   "cell_type": "code",
   "execution_count": 55,
   "metadata": {},
   "outputs": [],
   "source": [
    "# b10 = adf[['2010 Bottom 10', '2011 Bottom 10', '2012 Bottom 10']].mean(axis=1)\n",
    "# b50 = adf[['2010 Bottom 50', '2011 Bottom 50', '2012 Bottom 50']].mean(axis=1)\n",
    "# b100 = adf[['2010 Bottom 100', '2011 Bottom 100', '2012 Bottom 100']].mean(axis=1)\n",
    "# b250 = adf[['2010 Bottom 250', '2011 Bottom 250', '2012 Bottom 250']].mean(axis=1)\n",
    "# t10 = adf[['2010 Top 10', '2011 Top 10', '2012 Top 10']].mean(axis=1)\n",
    "# t50 = adf[['2010 Top 50', '2011 Top 50', '2012 Top 50']].mean(axis=1)\n",
    "# t100 = adf[['2010 Top 100', '2011 Top 100', '2012 Top 100']].mean(axis=1)\n",
    "# t250 = adf[['2010 Top 250', '2011 Top 250', '2012 Top 250']].mean(axis=1)"
   ]
  },
  {
   "cell_type": "code",
   "execution_count": 119,
   "metadata": {},
   "outputs": [],
   "source": [
    "adf = adf.transpose()"
   ]
  },
  {
   "cell_type": "code",
   "execution_count": 120,
   "metadata": {},
   "outputs": [
    {
     "data": {
      "text/html": [
       "<div>\n",
       "<style scoped>\n",
       "    .dataframe tbody tr th:only-of-type {\n",
       "        vertical-align: middle;\n",
       "    }\n",
       "\n",
       "    .dataframe tbody tr th {\n",
       "        vertical-align: top;\n",
       "    }\n",
       "\n",
       "    .dataframe thead th {\n",
       "        text-align: right;\n",
       "    }\n",
       "</style>\n",
       "<table border=\"1\" class=\"dataframe\">\n",
       "  <thead>\n",
       "    <tr style=\"text-align: right;\">\n",
       "      <th>Product Group</th>\n",
       "      <th>FraudFinder</th>\n",
       "      <th>FraudFinder 2.0.</th>\n",
       "      <th>Other</th>\n",
       "      <th>Mean Max Trans</th>\n",
       "    </tr>\n",
       "  </thead>\n",
       "  <tbody>\n",
       "    <tr>\n",
       "      <th>2010 Bottom 10</th>\n",
       "      <td>76.033611</td>\n",
       "      <td>103.121583</td>\n",
       "      <td>0.000000</td>\n",
       "      <td>0.000000e+00</td>\n",
       "    </tr>\n",
       "    <tr>\n",
       "      <th>2011 Bottom 10</th>\n",
       "      <td>34.789375</td>\n",
       "      <td>104.718917</td>\n",
       "      <td>-0.001389</td>\n",
       "      <td>0.000000e+00</td>\n",
       "    </tr>\n",
       "    <tr>\n",
       "      <th>2012 Bottom 10</th>\n",
       "      <td>31.681250</td>\n",
       "      <td>133.025208</td>\n",
       "      <td>0.000000</td>\n",
       "      <td>0.000000e+00</td>\n",
       "    </tr>\n",
       "    <tr>\n",
       "      <th>2010 Bottom 50</th>\n",
       "      <td>146.663095</td>\n",
       "      <td>92.043850</td>\n",
       "      <td>0.000000</td>\n",
       "      <td>0.000000e+00</td>\n",
       "    </tr>\n",
       "    <tr>\n",
       "      <th>2011 Bottom 50</th>\n",
       "      <td>79.825667</td>\n",
       "      <td>113.087633</td>\n",
       "      <td>24.496481</td>\n",
       "      <td>0.000000e+00</td>\n",
       "    </tr>\n",
       "    <tr>\n",
       "      <th>2012 Bottom 50</th>\n",
       "      <td>33.901806</td>\n",
       "      <td>159.497011</td>\n",
       "      <td>2.465583</td>\n",
       "      <td>0.000000e+00</td>\n",
       "    </tr>\n",
       "    <tr>\n",
       "      <th>2010 Bottom 100</th>\n",
       "      <td>130.727415</td>\n",
       "      <td>84.299183</td>\n",
       "      <td>1.875556</td>\n",
       "      <td>0.000000e+00</td>\n",
       "    </tr>\n",
       "    <tr>\n",
       "      <th>2011 Bottom 100</th>\n",
       "      <td>133.339889</td>\n",
       "      <td>106.227308</td>\n",
       "      <td>117.767051</td>\n",
       "      <td>0.000000e+00</td>\n",
       "    </tr>\n",
       "    <tr>\n",
       "      <th>2012 Bottom 100</th>\n",
       "      <td>48.172976</td>\n",
       "      <td>354.521498</td>\n",
       "      <td>-5.017197</td>\n",
       "      <td>0.000000e+00</td>\n",
       "    </tr>\n",
       "    <tr>\n",
       "      <th>2010 Bottom 250</th>\n",
       "      <td>107.863451</td>\n",
       "      <td>105.518199</td>\n",
       "      <td>40.593778</td>\n",
       "      <td>0.000000e+00</td>\n",
       "    </tr>\n",
       "    <tr>\n",
       "      <th>2011 Bottom 250</th>\n",
       "      <td>100.090964</td>\n",
       "      <td>127.397642</td>\n",
       "      <td>56.299044</td>\n",
       "      <td>0.000000e+00</td>\n",
       "    </tr>\n",
       "    <tr>\n",
       "      <th>2012 Bottom 250</th>\n",
       "      <td>60.777444</td>\n",
       "      <td>350.870179</td>\n",
       "      <td>138.900292</td>\n",
       "      <td>0.000000e+00</td>\n",
       "    </tr>\n",
       "    <tr>\n",
       "      <th>2010 Top 10</th>\n",
       "      <td>940.066667</td>\n",
       "      <td>1412.083917</td>\n",
       "      <td>112.916250</td>\n",
       "      <td>4.499908e+07</td>\n",
       "    </tr>\n",
       "    <tr>\n",
       "      <th>2011 Top 10</th>\n",
       "      <td>734.199167</td>\n",
       "      <td>2487.247407</td>\n",
       "      <td>324.620833</td>\n",
       "      <td>8.346990e+07</td>\n",
       "    </tr>\n",
       "    <tr>\n",
       "      <th>2012 Top 10</th>\n",
       "      <td>384.995694</td>\n",
       "      <td>3678.323917</td>\n",
       "      <td>-185.826667</td>\n",
       "      <td>1.276699e+08</td>\n",
       "    </tr>\n",
       "    <tr>\n",
       "      <th>2010 Top 50</th>\n",
       "      <td>350.570238</td>\n",
       "      <td>798.515617</td>\n",
       "      <td>80.645064</td>\n",
       "      <td>1.382872e+07</td>\n",
       "    </tr>\n",
       "    <tr>\n",
       "      <th>2011 Top 50</th>\n",
       "      <td>366.701538</td>\n",
       "      <td>1113.005680</td>\n",
       "      <td>220.938333</td>\n",
       "      <td>2.390470e+07</td>\n",
       "    </tr>\n",
       "    <tr>\n",
       "      <th>2012 Top 50</th>\n",
       "      <td>165.625000</td>\n",
       "      <td>1817.420800</td>\n",
       "      <td>8.805641</td>\n",
       "      <td>3.475298e+07</td>\n",
       "    </tr>\n",
       "    <tr>\n",
       "      <th>2010 Top 100</th>\n",
       "      <td>267.193056</td>\n",
       "      <td>588.175308</td>\n",
       "      <td>61.948929</td>\n",
       "      <td>8.075063e+06</td>\n",
       "    </tr>\n",
       "    <tr>\n",
       "      <th>2011 Top 100</th>\n",
       "      <td>262.029574</td>\n",
       "      <td>872.374337</td>\n",
       "      <td>129.957982</td>\n",
       "      <td>1.358876e+07</td>\n",
       "    </tr>\n",
       "    <tr>\n",
       "      <th>2012 Top 100</th>\n",
       "      <td>104.347790</td>\n",
       "      <td>1390.108542</td>\n",
       "      <td>5.203333</td>\n",
       "      <td>1.955458e+07</td>\n",
       "    </tr>\n",
       "    <tr>\n",
       "      <th>2010 Top 250</th>\n",
       "      <td>191.716650</td>\n",
       "      <td>384.374069</td>\n",
       "      <td>57.319444</td>\n",
       "      <td>3.673084e+06</td>\n",
       "    </tr>\n",
       "    <tr>\n",
       "      <th>2011 Top 250</th>\n",
       "      <td>164.292318</td>\n",
       "      <td>602.224298</td>\n",
       "      <td>73.500154</td>\n",
       "      <td>6.102113e+06</td>\n",
       "    </tr>\n",
       "    <tr>\n",
       "      <th>2012 Top 250</th>\n",
       "      <td>88.558307</td>\n",
       "      <td>878.266690</td>\n",
       "      <td>158.675985</td>\n",
       "      <td>8.772541e+06</td>\n",
       "    </tr>\n",
       "  </tbody>\n",
       "</table>\n",
       "</div>"
      ],
      "text/plain": [
       "Product Group    FraudFinder  FraudFinder 2.0.       Other  Mean Max Trans\n",
       "2010 Bottom 10     76.033611        103.121583    0.000000    0.000000e+00\n",
       "2011 Bottom 10     34.789375        104.718917   -0.001389    0.000000e+00\n",
       "2012 Bottom 10     31.681250        133.025208    0.000000    0.000000e+00\n",
       "2010 Bottom 50    146.663095         92.043850    0.000000    0.000000e+00\n",
       "2011 Bottom 50     79.825667        113.087633   24.496481    0.000000e+00\n",
       "2012 Bottom 50     33.901806        159.497011    2.465583    0.000000e+00\n",
       "2010 Bottom 100   130.727415         84.299183    1.875556    0.000000e+00\n",
       "2011 Bottom 100   133.339889        106.227308  117.767051    0.000000e+00\n",
       "2012 Bottom 100    48.172976        354.521498   -5.017197    0.000000e+00\n",
       "2010 Bottom 250   107.863451        105.518199   40.593778    0.000000e+00\n",
       "2011 Bottom 250   100.090964        127.397642   56.299044    0.000000e+00\n",
       "2012 Bottom 250    60.777444        350.870179  138.900292    0.000000e+00\n",
       "2010 Top 10       940.066667       1412.083917  112.916250    4.499908e+07\n",
       "2011 Top 10       734.199167       2487.247407  324.620833    8.346990e+07\n",
       "2012 Top 10       384.995694       3678.323917 -185.826667    1.276699e+08\n",
       "2010 Top 50       350.570238        798.515617   80.645064    1.382872e+07\n",
       "2011 Top 50       366.701538       1113.005680  220.938333    2.390470e+07\n",
       "2012 Top 50       165.625000       1817.420800    8.805641    3.475298e+07\n",
       "2010 Top 100      267.193056        588.175308   61.948929    8.075063e+06\n",
       "2011 Top 100      262.029574        872.374337  129.957982    1.358876e+07\n",
       "2012 Top 100      104.347790       1390.108542    5.203333    1.955458e+07\n",
       "2010 Top 250      191.716650        384.374069   57.319444    3.673084e+06\n",
       "2011 Top 250      164.292318        602.224298   73.500154    6.102113e+06\n",
       "2012 Top 250       88.558307        878.266690  158.675985    8.772541e+06"
      ]
     },
     "execution_count": 120,
     "metadata": {},
     "output_type": "execute_result"
    }
   ],
   "source": [
    "adf['Mean Max Trans'] = avg_tx\n",
    "adf"
   ]
  },
  {
   "cell_type": "code",
   "execution_count": 102,
   "metadata": {},
   "outputs": [],
   "source": [
    "# df2= pd.concat([b10, b50, b100, b250, t10, t50, t100, t250], axis=1, names=['Bottom 10', 'Bottom 50', 'Bottom 100','Bottom 250','Top 10', 'Top 50', 'Top 100', 'Top 250'])\n",
    "# df2 = df2.rename(columns={0:'Bottom 10', 1:'Bottom 50', 2:'Bottom 100',3:'Bottom 250',4:'Top 10', 5:'Top 50', 6:'Top 100',7:'Top 250'})\n",
    "# df2"
   ]
  },
  {
   "cell_type": "code",
   "execution_count": 103,
   "metadata": {},
   "outputs": [],
   "source": [
    "# df2 = df2.transpose()\n",
    "# len(df2)"
   ]
  },
  {
   "cell_type": "code",
   "execution_count": 104,
   "metadata": {},
   "outputs": [],
   "source": [
    "# arr = np.arange(0, len(avg_tx)+3, 3)\n",
    "# sets = []\n",
    "# for i in range(len(arr)-1):\n",
    "#     sets.append(np.mean(avg_tx[arr[i]:arr[i+1]]))\n",
    "# df2['Mean Transaction Max'] = sets\n",
    "# df2"
   ]
  },
  {
   "cell_type": "code",
   "execution_count": 122,
   "metadata": {},
   "outputs": [
    {
     "name": "stderr",
     "output_type": "stream",
     "text": [
      "/Users/laura/anaconda3/lib/python3.7/site-packages/pandas/plotting/_core.py:185: UserWarning: 'colors' is being deprecated. Please use 'color'instead of 'colors'\n",
      "  warnings.warn((\"'colors' is being deprecated. Please use 'color'\"\n"
     ]
    },
    {
     "data": {
      "image/png": "[encoded data removed]",
      "text/plain": [
       "<Figure size 720x576 with 2 Axes>"
      ]
     },
     "metadata": {
      "needs_background": "light"
     },
     "output_type": "display_data"
    }
   ],
   "source": [
    "fig, ax = plt.subplots(figsize=(10,8), subplot_kw={'ylim':(0,4000)})\n",
    "ax = adf.plot(ax=ax, secondary_y=['Mean Max Trans'], kind='bar', figsize=(10,8), legend=True, colors=['tab:olive','tab:red','tab:cyan','black'], rot=45, width=1)\n",
    "ax.right_ax.set_ylabel('Mean Max Monthly Transactions', fontsize=12, fontweight='bold')\n",
    "ax.set_ylabel(\"Mean Revenue for Top/Bottom X Users\", fontsize=12, fontweight='bold')\n",
    "plt.xlabel('Revenue from Top/Bottom X Users per Year', fontsize=12, fontweight='bold')\n",
    "plt.title('Revenue from Users with Top/Bottom X Max Monthly Transactions', fontsize=12, fontweight='bold')\n",
    "\n",
    "plt.savefig('./revenue_summary2.png',transparent=False, dpi=80, bbox_inches=\"tight\")"
   ]
  },
  {
   "cell_type": "code",
   "execution_count": 195,
   "metadata": {},
   "outputs": [],
   "source": [
    "melted_pos = melted.loc[melted.Revenue !=0]"
   ]
  },
  {
   "cell_type": "code",
   "execution_count": 204,
   "metadata": {},
   "outputs": [
    {
     "data": {
      "text/html": [
       "<div>\n",
       "<style scoped>\n",
       "    .dataframe tbody tr th:only-of-type {\n",
       "        vertical-align: middle;\n",
       "    }\n",
       "\n",
       "    .dataframe tbody tr th {\n",
       "        vertical-align: top;\n",
       "    }\n",
       "\n",
       "    .dataframe thead th {\n",
       "        text-align: right;\n",
       "    }\n",
       "</style>\n",
       "<table border=\"1\" class=\"dataframe\">\n",
       "  <thead>\n",
       "    <tr style=\"text-align: right;\">\n",
       "      <th></th>\n",
       "      <th>Cust_ID</th>\n",
       "      <th>Product Group</th>\n",
       "      <th>Month</th>\n",
       "      <th>Revenue</th>\n",
       "      <th>Year_x</th>\n",
       "      <th>Customer</th>\n",
       "      <th># Transactions</th>\n",
       "      <th>Year_y</th>\n",
       "    </tr>\n",
       "  </thead>\n",
       "  <tbody>\n",
       "    <tr>\n",
       "      <th>0</th>\n",
       "      <td>CUSTOMER 2761</td>\n",
       "      <td>FraudFinder 2.0.</td>\n",
       "      <td>2010-01-01</td>\n",
       "      <td>234.91</td>\n",
       "      <td>2010</td>\n",
       "      <td>CUSTOMER 2761</td>\n",
       "      <td>321684</td>\n",
       "      <td>2010</td>\n",
       "    </tr>\n",
       "    <tr>\n",
       "      <th>1</th>\n",
       "      <td>CUSTOMER 2761</td>\n",
       "      <td>FraudFinder 2.0.</td>\n",
       "      <td>2010-01-01</td>\n",
       "      <td>234.91</td>\n",
       "      <td>2010</td>\n",
       "      <td>CUSTOMER 2761</td>\n",
       "      <td>253958</td>\n",
       "      <td>2011</td>\n",
       "    </tr>\n",
       "    <tr>\n",
       "      <th>2</th>\n",
       "      <td>CUSTOMER 2761</td>\n",
       "      <td>FraudFinder 2.0.</td>\n",
       "      <td>2010-01-01</td>\n",
       "      <td>234.91</td>\n",
       "      <td>2010</td>\n",
       "      <td>CUSTOMER 2761</td>\n",
       "      <td>377323</td>\n",
       "      <td>2012</td>\n",
       "    </tr>\n",
       "    <tr>\n",
       "      <th>3</th>\n",
       "      <td>CUSTOMER 2761</td>\n",
       "      <td>FraudFinder 2.0.</td>\n",
       "      <td>2010-02-01</td>\n",
       "      <td>234.91</td>\n",
       "      <td>2010</td>\n",
       "      <td>CUSTOMER 2761</td>\n",
       "      <td>321684</td>\n",
       "      <td>2010</td>\n",
       "    </tr>\n",
       "    <tr>\n",
       "      <th>4</th>\n",
       "      <td>CUSTOMER 2761</td>\n",
       "      <td>FraudFinder 2.0.</td>\n",
       "      <td>2010-02-01</td>\n",
       "      <td>234.91</td>\n",
       "      <td>2010</td>\n",
       "      <td>CUSTOMER 2761</td>\n",
       "      <td>253958</td>\n",
       "      <td>2011</td>\n",
       "    </tr>\n",
       "  </tbody>\n",
       "</table>\n",
       "</div>"
      ],
      "text/plain": [
       "         Cust_ID     Product Group      Month  Revenue  Year_x       Customer  \\\n",
       "0  CUSTOMER 2761  FraudFinder 2.0. 2010-01-01   234.91    2010  CUSTOMER 2761   \n",
       "1  CUSTOMER 2761  FraudFinder 2.0. 2010-01-01   234.91    2010  CUSTOMER 2761   \n",
       "2  CUSTOMER 2761  FraudFinder 2.0. 2010-01-01   234.91    2010  CUSTOMER 2761   \n",
       "3  CUSTOMER 2761  FraudFinder 2.0. 2010-02-01   234.91    2010  CUSTOMER 2761   \n",
       "4  CUSTOMER 2761  FraudFinder 2.0. 2010-02-01   234.91    2010  CUSTOMER 2761   \n",
       "\n",
       "   # Transactions  Year_y  \n",
       "0          321684    2010  \n",
       "1          253958    2011  \n",
       "2          377323    2012  \n",
       "3          321684    2010  \n",
       "4          253958    2011  "
      ]
     },
     "execution_count": 204,
     "metadata": {},
     "output_type": "execute_result"
    }
   ],
   "source": [
    "df1 = melted_pos.merge(transmax, left_on=['Cust_ID'], right_on=['Customer'])\n",
    "df1.head()"
   ]
  },
  {
   "cell_type": "code",
   "execution_count": 205,
   "metadata": {},
   "outputs": [
    {
     "data": {
      "text/plain": [
       "205069"
      ]
     },
     "execution_count": 205,
     "metadata": {},
     "output_type": "execute_result"
    }
   ],
   "source": [
    "df1.drop_duplicates(keep='first', inplace=True)\n",
    "len(df1)"
   ]
  },
  {
   "cell_type": "code",
   "execution_count": 206,
   "metadata": {},
   "outputs": [],
   "source": [
    "df1 = df1[df1['Year_x'] == df1['Year_y']]\n",
    "df1 = df1.drop(columns=['Customer','Year_y'], axis=1)\n",
    "df1 = df1.rename(columns={'Year_x':'Year'})"
   ]
  },
  {
   "cell_type": "code",
   "execution_count": 207,
   "metadata": {},
   "outputs": [
    {
     "data": {
      "text/plain": [
       "6336"
      ]
     },
     "execution_count": 207,
     "metadata": {},
     "output_type": "execute_result"
    }
   ],
   "source": [
    "df1 = df1.groupby(['Cust_ID','Product Group','Year']).sum()\n",
    "len(df1)"
   ]
  },
  {
   "cell_type": "code",
   "execution_count": 208,
   "metadata": {},
   "outputs": [],
   "source": [
    "df1 = df1.reset_index()"
   ]
  },
  {
   "cell_type": "code",
   "execution_count": 219,
   "metadata": {},
   "outputs": [
    {
     "data": {
      "text/html": [
       "<div>\n",
       "<style scoped>\n",
       "    .dataframe tbody tr th:only-of-type {\n",
       "        vertical-align: middle;\n",
       "    }\n",
       "\n",
       "    .dataframe tbody tr th {\n",
       "        vertical-align: top;\n",
       "    }\n",
       "\n",
       "    .dataframe thead th {\n",
       "        text-align: right;\n",
       "    }\n",
       "</style>\n",
       "<table border=\"1\" class=\"dataframe\">\n",
       "  <thead>\n",
       "    <tr style=\"text-align: right;\">\n",
       "      <th></th>\n",
       "      <th>Cust_ID</th>\n",
       "      <th>Product Group</th>\n",
       "      <th>Year</th>\n",
       "      <th>Revenue</th>\n",
       "      <th># Transactions</th>\n",
       "    </tr>\n",
       "  </thead>\n",
       "  <tbody>\n",
       "    <tr>\n",
       "      <th>1512</th>\n",
       "      <td>CUSTOMER 188</td>\n",
       "      <td>FraudFinder 2.0.</td>\n",
       "      <td>2011</td>\n",
       "      <td>0.0</td>\n",
       "      <td>0</td>\n",
       "    </tr>\n",
       "    <tr>\n",
       "      <th>1822</th>\n",
       "      <td>CUSTOMER 2053</td>\n",
       "      <td>FraudFinder 2.0.</td>\n",
       "      <td>2012</td>\n",
       "      <td>0.0</td>\n",
       "      <td>306369</td>\n",
       "    </tr>\n",
       "    <tr>\n",
       "      <th>4541</th>\n",
       "      <td>CUSTOMER 3721</td>\n",
       "      <td>FraudFinder 2.0.</td>\n",
       "      <td>2011</td>\n",
       "      <td>0.0</td>\n",
       "      <td>364089</td>\n",
       "    </tr>\n",
       "    <tr>\n",
       "      <th>4715</th>\n",
       "      <td>CUSTOMER 3810</td>\n",
       "      <td>FraudFinder 2.0.</td>\n",
       "      <td>2011</td>\n",
       "      <td>0.0</td>\n",
       "      <td>94594</td>\n",
       "    </tr>\n",
       "    <tr>\n",
       "      <th>4843</th>\n",
       "      <td>CUSTOMER 3876</td>\n",
       "      <td>FraudFinder</td>\n",
       "      <td>2012</td>\n",
       "      <td>0.0</td>\n",
       "      <td>732146</td>\n",
       "    </tr>\n",
       "    <tr>\n",
       "      <th>5266</th>\n",
       "      <td>CUSTOMER 4145</td>\n",
       "      <td>FraudFinder</td>\n",
       "      <td>2012</td>\n",
       "      <td>0.0</td>\n",
       "      <td>674174</td>\n",
       "    </tr>\n",
       "  </tbody>\n",
       "</table>\n",
       "</div>"
      ],
      "text/plain": [
       "            Cust_ID     Product Group  Year  Revenue  # Transactions\n",
       "1512   CUSTOMER 188  FraudFinder 2.0.  2011      0.0               0\n",
       "1822  CUSTOMER 2053  FraudFinder 2.0.  2012      0.0          306369\n",
       "4541  CUSTOMER 3721  FraudFinder 2.0.  2011      0.0          364089\n",
       "4715  CUSTOMER 3810  FraudFinder 2.0.  2011      0.0           94594\n",
       "4843  CUSTOMER 3876       FraudFinder  2012      0.0          732146\n",
       "5266  CUSTOMER 4145       FraudFinder  2012      0.0          674174"
      ]
     },
     "execution_count": 219,
     "metadata": {},
     "output_type": "execute_result"
    }
   ],
   "source": [
    "df1.loc[df1['Revenue']==0]\n",
    "# There seem to be a number of clients who weren't paying but still are logging transactions"
   ]
  },
  {
   "cell_type": "code",
   "execution_count": 221,
   "metadata": {},
   "outputs": [
    {
     "data": {
      "image/png": "[encoded data removed]",
      "text/plain": [
       "<Figure size 720x576 with 1 Axes>"
      ]
     },
     "metadata": {
      "needs_background": "light"
     },
     "output_type": "display_data"
    }
   ],
   "source": [
    "colors = ['tab:red','tab:olive','tab:cyan']\n",
    "sns.set_palette(colors)\n",
    "\n",
    "sns.relplot(y='Revenue', x='# Transactions', data=df1, hue='Product Group')\n",
    "fig = plt.gcf()\n",
    "fig.set_size_inches(10, 8)\n",
    "plt.title(f\"Revenue by Max Monthly Transactions\", fontsize=14, fontweight='bold')\n",
    "plt.xlabel('# Transactions', fontsize=12, fontweight='bold')\n",
    "plt.ylabel('Revenue $', fontsize=12, fontweight='bold')\n",
    "\n",
    "plt.savefig('rev_x_transact.png')"
   ]
  },
  {
   "cell_type": "code",
   "execution_count": 223,
   "metadata": {},
   "outputs": [
    {
     "data": {
      "text/plain": [
       "'Slope: 9.79514824111895e-06. Intercept: 2827.104515148366. R: 0.26021652369488113. P: 1.4093397394499485e-98. SE: 4.566800196267663e-07'"
      ]
     },
     "execution_count": 223,
     "metadata": {},
     "output_type": "execute_result"
    }
   ],
   "source": [
    "slope, intercept, r_value, p_value, std_err = stats.linregress(df1['# Transactions'], df1['Revenue'])\n",
    "s_stats = f'Slope: {slope}. Intercept: {intercept}. R: {r_value}. P: {p_value}. SE: {std_err}'\n",
    "s_stats"
   ]
  },
  {
   "cell_type": "code",
   "execution_count": 225,
   "metadata": {},
   "outputs": [],
   "source": [
    "df3 = df1.loc[df1['# Transactions'] != 0]\n",
    "df_ff2 = df3.loc[df3['Product Group'] == 'FraudFinder 2.0.']\n",
    "df_ff = df3.loc[df3['Product Group'] == 'FraudFinder']\n",
    "df_o = df3.loc[df3['Product Group'] == 'Other']"
   ]
  },
  {
   "cell_type": "code",
   "execution_count": 226,
   "metadata": {},
   "outputs": [
    {
     "name": "stderr",
     "output_type": "stream",
     "text": [
      "No handles with labels found to put in legend.\n"
     ]
    },
    {
     "data": {
      "image/png": "[encoded data removed]",
      "text/plain": [
       "<Figure size 720x576 with 1 Axes>"
      ]
     },
     "metadata": {
      "needs_background": "light"
     },
     "output_type": "display_data"
    }
   ],
   "source": [
    "fig, ax = plt.subplots(figsize=(10,8), subplot_kw={'ylim':(-8000,80000), 'xlim':(0,10000000)})\n",
    "plt.xlabel('Transactions', fontsize=12, fontweight='bold')\n",
    "plt.ylabel('Revenue', fontsize=12, fontweight='bold')\n",
    "plt.title(f\"Revenue per Product vs. Max Monthly Transactions\", fontsize=14, fontweight='bold')\n",
    "plt.legend(loc='best')\n",
    "df_ff.plot(ax=ax, kind=\"scatter\", grid=False, x='# Transactions',y=\"Revenue\", s=40, color=\"tab:olive\", edgecolors=\"tab:blue\", marker='x', label='FraudFinder')\n",
    "df_ff2.plot(ax=ax, kind=\"scatter\", grid=False, x='# Transactions',y=\"Revenue\", s=40, color=\"tab:red\", edgecolors=\"tab:blue\", marker='o', label='FraudFinder2')\n",
    "df_o.plot(ax=ax, kind=\"scatter\", grid=False, x='# Transactions',y=\"Revenue\", s=40, color=\"tab:cyan\", edgecolors=\"tab:blue\", marker='.', label='Other')\n",
    "plt.savefig('revtrans.png')"
   ]
  },
  {
   "cell_type": "code",
   "execution_count": 229,
   "metadata": {},
   "outputs": [],
   "source": [
    "sum_revenue_transnulls = df1.loc[df1['# Transactions']==0]"
   ]
  },
  {
   "cell_type": "code",
   "execution_count": 235,
   "metadata": {},
   "outputs": [
    {
     "data": {
      "text/plain": [
       "Year\n",
       "2010     530232.01\n",
       "2011     684852.87\n",
       "2012    1311458.63\n",
       "Name: Revenue, dtype: float64"
      ]
     },
     "execution_count": 235,
     "metadata": {},
     "output_type": "execute_result"
    }
   ],
   "source": [
    "# Amount of revenue at risk\n",
    "sum_revenue_transnulls.groupby('Year')['Revenue'].sum()"
   ]
  },
  {
   "cell_type": "code",
   "execution_count": null,
   "metadata": {},
   "outputs": [],
   "source": []
  }
 ],
 "metadata": {
  "kernelspec": {
   "display_name": "Python 3",
   "language": "python",
   "name": "python3"
  },
  "language_info": {
   "codemirror_mode": {
    "name": "ipython",
    "version": 3
   },
   "file_extension": ".py",
   "mimetype": "text/x-python",
   "name": "python",
   "nbconvert_exporter": "python",
   "pygments_lexer": "ipython3",
   "version": "3.7.2"
  }
 },
 "nbformat": 4,
 "nbformat_minor": 2
}
